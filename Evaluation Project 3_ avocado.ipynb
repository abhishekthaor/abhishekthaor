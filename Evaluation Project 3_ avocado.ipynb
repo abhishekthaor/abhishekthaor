{
 "cells": [
  {
   "cell_type": "markdown",
   "metadata": {},
   "source": [
    "# Avocado Dataset"
   ]
  },
  {
   "cell_type": "raw",
   "metadata": {},
   "source": [
    "\n",
    "\n",
    "\n",
    "We are going to perform analysis on Avocado dataset. The input data is in .csv format with 1517 obsevations. The dataset has total 14 columns with the below description\n",
    "\n",
    "1.Date\n",
    "2.Average Price\n",
    "3.Total Volume\n",
    "4.4046\n",
    "5.4255\n",
    "6.4770\n",
    "7. Total Bags\n",
    "8.Small Bags\n",
    "9.Large Bags\n",
    "10.Xlarge Bags\n",
    "11. type\n",
    "12. year\n",
    "13.Region\n",
    "\n",
    "\n",
    "Our Target Variable is \"AveragePrice\""
   ]
  },
  {
   "cell_type": "markdown",
   "metadata": {},
   "source": [
    "# Loading Dataset\n",
    "\n"
   ]
  },
  {
   "cell_type": "code",
   "execution_count": 19,
   "metadata": {},
   "outputs": [
    {
     "data": {
      "text/html": [
       "<div>\n",
       "<style scoped>\n",
       "    .dataframe tbody tr th:only-of-type {\n",
       "        vertical-align: middle;\n",
       "    }\n",
       "\n",
       "    .dataframe tbody tr th {\n",
       "        vertical-align: top;\n",
       "    }\n",
       "\n",
       "    .dataframe thead th {\n",
       "        text-align: right;\n",
       "    }\n",
       "</style>\n",
       "<table border=\"1\" class=\"dataframe\">\n",
       "  <thead>\n",
       "    <tr style=\"text-align: right;\">\n",
       "      <th></th>\n",
       "      <th>Unnamed: 0</th>\n",
       "      <th>Date</th>\n",
       "      <th>AveragePrice</th>\n",
       "      <th>Total Volume</th>\n",
       "      <th>4046</th>\n",
       "      <th>4225</th>\n",
       "      <th>4770</th>\n",
       "      <th>Total Bags</th>\n",
       "      <th>Small Bags</th>\n",
       "      <th>Large Bags</th>\n",
       "      <th>XLarge Bags</th>\n",
       "      <th>type</th>\n",
       "      <th>year</th>\n",
       "      <th>region</th>\n",
       "    </tr>\n",
       "  </thead>\n",
       "  <tbody>\n",
       "    <tr>\n",
       "      <th>0</th>\n",
       "      <td>0</td>\n",
       "      <td>27-12-2015</td>\n",
       "      <td>1.33</td>\n",
       "      <td>64236.62</td>\n",
       "      <td>1036.74</td>\n",
       "      <td>54454.85</td>\n",
       "      <td>48.16</td>\n",
       "      <td>8696.87</td>\n",
       "      <td>8603.62</td>\n",
       "      <td>93.25</td>\n",
       "      <td>0.0</td>\n",
       "      <td>conventional</td>\n",
       "      <td>2015</td>\n",
       "      <td>Albany</td>\n",
       "    </tr>\n",
       "    <tr>\n",
       "      <th>1</th>\n",
       "      <td>1</td>\n",
       "      <td>20-12-2015</td>\n",
       "      <td>1.35</td>\n",
       "      <td>54876.98</td>\n",
       "      <td>674.28</td>\n",
       "      <td>44638.81</td>\n",
       "      <td>58.33</td>\n",
       "      <td>9505.56</td>\n",
       "      <td>9408.07</td>\n",
       "      <td>97.49</td>\n",
       "      <td>0.0</td>\n",
       "      <td>conventional</td>\n",
       "      <td>2015</td>\n",
       "      <td>Albany</td>\n",
       "    </tr>\n",
       "    <tr>\n",
       "      <th>2</th>\n",
       "      <td>2</td>\n",
       "      <td>13-12-2015</td>\n",
       "      <td>0.93</td>\n",
       "      <td>118220.22</td>\n",
       "      <td>794.70</td>\n",
       "      <td>109149.67</td>\n",
       "      <td>130.50</td>\n",
       "      <td>8145.35</td>\n",
       "      <td>8042.21</td>\n",
       "      <td>103.14</td>\n",
       "      <td>0.0</td>\n",
       "      <td>conventional</td>\n",
       "      <td>2015</td>\n",
       "      <td>Albany</td>\n",
       "    </tr>\n",
       "    <tr>\n",
       "      <th>3</th>\n",
       "      <td>3</td>\n",
       "      <td>06-12-2015</td>\n",
       "      <td>1.08</td>\n",
       "      <td>78992.15</td>\n",
       "      <td>1132.00</td>\n",
       "      <td>71976.41</td>\n",
       "      <td>72.58</td>\n",
       "      <td>5811.16</td>\n",
       "      <td>5677.40</td>\n",
       "      <td>133.76</td>\n",
       "      <td>0.0</td>\n",
       "      <td>conventional</td>\n",
       "      <td>2015</td>\n",
       "      <td>Albany</td>\n",
       "    </tr>\n",
       "    <tr>\n",
       "      <th>4</th>\n",
       "      <td>4</td>\n",
       "      <td>29-11-2015</td>\n",
       "      <td>1.28</td>\n",
       "      <td>51039.60</td>\n",
       "      <td>941.48</td>\n",
       "      <td>43838.39</td>\n",
       "      <td>75.78</td>\n",
       "      <td>6183.95</td>\n",
       "      <td>5986.26</td>\n",
       "      <td>197.69</td>\n",
       "      <td>0.0</td>\n",
       "      <td>conventional</td>\n",
       "      <td>2015</td>\n",
       "      <td>Albany</td>\n",
       "    </tr>\n",
       "  </tbody>\n",
       "</table>\n",
       "</div>"
      ],
      "text/plain": [
       "   Unnamed: 0        Date  AveragePrice  Total Volume     4046       4225  \\\n",
       "0           0  27-12-2015          1.33      64236.62  1036.74   54454.85   \n",
       "1           1  20-12-2015          1.35      54876.98   674.28   44638.81   \n",
       "2           2  13-12-2015          0.93     118220.22   794.70  109149.67   \n",
       "3           3  06-12-2015          1.08      78992.15  1132.00   71976.41   \n",
       "4           4  29-11-2015          1.28      51039.60   941.48   43838.39   \n",
       "\n",
       "     4770  Total Bags  Small Bags  Large Bags  XLarge Bags          type  \\\n",
       "0   48.16     8696.87     8603.62       93.25          0.0  conventional   \n",
       "1   58.33     9505.56     9408.07       97.49          0.0  conventional   \n",
       "2  130.50     8145.35     8042.21      103.14          0.0  conventional   \n",
       "3   72.58     5811.16     5677.40      133.76          0.0  conventional   \n",
       "4   75.78     6183.95     5986.26      197.69          0.0  conventional   \n",
       "\n",
       "   year  region  \n",
       "0  2015  Albany  \n",
       "1  2015  Albany  \n",
       "2  2015  Albany  \n",
       "3  2015  Albany  \n",
       "4  2015  Albany  "
      ]
     },
     "execution_count": 19,
     "metadata": {},
     "output_type": "execute_result"
    }
   ],
   "source": [
    "import pandas as pd\n",
    "df=pd.read_csv(\"avocado1.csv\")\n",
    "df.head()\n"
   ]
  },
  {
   "cell_type": "code",
   "execution_count": 20,
   "metadata": {},
   "outputs": [
    {
     "data": {
      "text/plain": [
       "(1517, 14)"
      ]
     },
     "execution_count": 20,
     "metadata": {},
     "output_type": "execute_result"
    }
   ],
   "source": [
    "df.shape"
   ]
  },
  {
   "cell_type": "markdown",
   "metadata": {},
   "source": [
    "# Importing Required Libraries for EDA"
   ]
  },
  {
   "cell_type": "code",
   "execution_count": 21,
   "metadata": {},
   "outputs": [],
   "source": [
    "import seaborn as sb\n",
    "import numpy as np\n",
    "import matplotlib.pyplot as plt\n",
    "import pandas as pd\n",
    "import numpy as np"
   ]
  },
  {
   "cell_type": "markdown",
   "metadata": {},
   "source": [
    "# Data Description"
   ]
  },
  {
   "cell_type": "code",
   "execution_count": 22,
   "metadata": {},
   "outputs": [
    {
     "data": {
      "text/html": [
       "<div>\n",
       "<style scoped>\n",
       "    .dataframe tbody tr th:only-of-type {\n",
       "        vertical-align: middle;\n",
       "    }\n",
       "\n",
       "    .dataframe tbody tr th {\n",
       "        vertical-align: top;\n",
       "    }\n",
       "\n",
       "    .dataframe thead th {\n",
       "        text-align: right;\n",
       "    }\n",
       "</style>\n",
       "<table border=\"1\" class=\"dataframe\">\n",
       "  <thead>\n",
       "    <tr style=\"text-align: right;\">\n",
       "      <th></th>\n",
       "      <th>Unnamed: 0</th>\n",
       "      <th>Date</th>\n",
       "      <th>AveragePrice</th>\n",
       "      <th>Total Volume</th>\n",
       "      <th>4046</th>\n",
       "      <th>4225</th>\n",
       "      <th>4770</th>\n",
       "      <th>Total Bags</th>\n",
       "      <th>Small Bags</th>\n",
       "      <th>Large Bags</th>\n",
       "      <th>XLarge Bags</th>\n",
       "      <th>type</th>\n",
       "      <th>year</th>\n",
       "      <th>region</th>\n",
       "    </tr>\n",
       "  </thead>\n",
       "  <tbody>\n",
       "    <tr>\n",
       "      <th>count</th>\n",
       "      <td>1517.000000</td>\n",
       "      <td>1517</td>\n",
       "      <td>1517.000000</td>\n",
       "      <td>1.517000e+03</td>\n",
       "      <td>1.517000e+03</td>\n",
       "      <td>1.517000e+03</td>\n",
       "      <td>1.517000e+03</td>\n",
       "      <td>1.517000e+03</td>\n",
       "      <td>1.517000e+03</td>\n",
       "      <td>1.517000e+03</td>\n",
       "      <td>1517.000000</td>\n",
       "      <td>1517</td>\n",
       "      <td>1517.000000</td>\n",
       "      <td>1517</td>\n",
       "    </tr>\n",
       "    <tr>\n",
       "      <th>unique</th>\n",
       "      <td>NaN</td>\n",
       "      <td>104</td>\n",
       "      <td>NaN</td>\n",
       "      <td>NaN</td>\n",
       "      <td>NaN</td>\n",
       "      <td>NaN</td>\n",
       "      <td>NaN</td>\n",
       "      <td>NaN</td>\n",
       "      <td>NaN</td>\n",
       "      <td>NaN</td>\n",
       "      <td>NaN</td>\n",
       "      <td>1</td>\n",
       "      <td>NaN</td>\n",
       "      <td>51</td>\n",
       "    </tr>\n",
       "    <tr>\n",
       "      <th>top</th>\n",
       "      <td>NaN</td>\n",
       "      <td>05-04-2015</td>\n",
       "      <td>NaN</td>\n",
       "      <td>NaN</td>\n",
       "      <td>NaN</td>\n",
       "      <td>NaN</td>\n",
       "      <td>NaN</td>\n",
       "      <td>NaN</td>\n",
       "      <td>NaN</td>\n",
       "      <td>NaN</td>\n",
       "      <td>NaN</td>\n",
       "      <td>conventional</td>\n",
       "      <td>NaN</td>\n",
       "      <td>California</td>\n",
       "    </tr>\n",
       "    <tr>\n",
       "      <th>freq</th>\n",
       "      <td>NaN</td>\n",
       "      <td>34</td>\n",
       "      <td>NaN</td>\n",
       "      <td>NaN</td>\n",
       "      <td>NaN</td>\n",
       "      <td>NaN</td>\n",
       "      <td>NaN</td>\n",
       "      <td>NaN</td>\n",
       "      <td>NaN</td>\n",
       "      <td>NaN</td>\n",
       "      <td>NaN</td>\n",
       "      <td>1517</td>\n",
       "      <td>NaN</td>\n",
       "      <td>76</td>\n",
       "    </tr>\n",
       "    <tr>\n",
       "      <th>mean</th>\n",
       "      <td>26.995386</td>\n",
       "      <td>NaN</td>\n",
       "      <td>1.074990</td>\n",
       "      <td>1.601879e+06</td>\n",
       "      <td>6.464387e+05</td>\n",
       "      <td>6.114375e+05</td>\n",
       "      <td>5.040550e+04</td>\n",
       "      <td>2.935974e+05</td>\n",
       "      <td>2.487736e+05</td>\n",
       "      <td>4.264205e+04</td>\n",
       "      <td>2181.771074</td>\n",
       "      <td>NaN</td>\n",
       "      <td>2015.162821</td>\n",
       "      <td>NaN</td>\n",
       "    </tr>\n",
       "    <tr>\n",
       "      <th>std</th>\n",
       "      <td>14.848287</td>\n",
       "      <td>NaN</td>\n",
       "      <td>0.188891</td>\n",
       "      <td>4.433143e+06</td>\n",
       "      <td>1.947614e+06</td>\n",
       "      <td>1.672906e+06</td>\n",
       "      <td>1.377812e+05</td>\n",
       "      <td>7.579765e+05</td>\n",
       "      <td>6.474765e+05</td>\n",
       "      <td>1.182157e+05</td>\n",
       "      <td>7455.712144</td>\n",
       "      <td>NaN</td>\n",
       "      <td>0.369324</td>\n",
       "      <td>NaN</td>\n",
       "    </tr>\n",
       "    <tr>\n",
       "      <th>min</th>\n",
       "      <td>0.000000</td>\n",
       "      <td>NaN</td>\n",
       "      <td>0.490000</td>\n",
       "      <td>3.875074e+04</td>\n",
       "      <td>4.677200e+02</td>\n",
       "      <td>1.783770e+03</td>\n",
       "      <td>0.000000e+00</td>\n",
       "      <td>3.311770e+03</td>\n",
       "      <td>3.311770e+03</td>\n",
       "      <td>0.000000e+00</td>\n",
       "      <td>0.000000</td>\n",
       "      <td>NaN</td>\n",
       "      <td>2015.000000</td>\n",
       "      <td>NaN</td>\n",
       "    </tr>\n",
       "    <tr>\n",
       "      <th>25%</th>\n",
       "      <td>14.000000</td>\n",
       "      <td>NaN</td>\n",
       "      <td>0.980000</td>\n",
       "      <td>1.474700e+05</td>\n",
       "      <td>2.040034e+04</td>\n",
       "      <td>4.147606e+04</td>\n",
       "      <td>9.112500e+02</td>\n",
       "      <td>3.620689e+04</td>\n",
       "      <td>2.972722e+04</td>\n",
       "      <td>5.407400e+02</td>\n",
       "      <td>0.000000</td>\n",
       "      <td>NaN</td>\n",
       "      <td>2015.000000</td>\n",
       "      <td>NaN</td>\n",
       "    </tr>\n",
       "    <tr>\n",
       "      <th>50%</th>\n",
       "      <td>29.000000</td>\n",
       "      <td>NaN</td>\n",
       "      <td>1.080000</td>\n",
       "      <td>4.027919e+05</td>\n",
       "      <td>8.175117e+04</td>\n",
       "      <td>1.186649e+05</td>\n",
       "      <td>7.688170e+03</td>\n",
       "      <td>7.397906e+04</td>\n",
       "      <td>6.237569e+04</td>\n",
       "      <td>5.044350e+03</td>\n",
       "      <td>0.000000</td>\n",
       "      <td>NaN</td>\n",
       "      <td>2015.000000</td>\n",
       "      <td>NaN</td>\n",
       "    </tr>\n",
       "    <tr>\n",
       "      <th>75%</th>\n",
       "      <td>39.000000</td>\n",
       "      <td>NaN</td>\n",
       "      <td>1.190000</td>\n",
       "      <td>9.819751e+05</td>\n",
       "      <td>3.775785e+05</td>\n",
       "      <td>4.851503e+05</td>\n",
       "      <td>2.916730e+04</td>\n",
       "      <td>1.576097e+05</td>\n",
       "      <td>1.461994e+05</td>\n",
       "      <td>2.926767e+04</td>\n",
       "      <td>401.480000</td>\n",
       "      <td>NaN</td>\n",
       "      <td>2015.000000</td>\n",
       "      <td>NaN</td>\n",
       "    </tr>\n",
       "    <tr>\n",
       "      <th>max</th>\n",
       "      <td>51.000000</td>\n",
       "      <td>NaN</td>\n",
       "      <td>1.680000</td>\n",
       "      <td>4.465546e+07</td>\n",
       "      <td>1.893304e+07</td>\n",
       "      <td>1.895648e+07</td>\n",
       "      <td>1.381516e+06</td>\n",
       "      <td>6.736304e+06</td>\n",
       "      <td>5.893642e+06</td>\n",
       "      <td>1.121076e+06</td>\n",
       "      <td>108072.790000</td>\n",
       "      <td>NaN</td>\n",
       "      <td>2016.000000</td>\n",
       "      <td>NaN</td>\n",
       "    </tr>\n",
       "  </tbody>\n",
       "</table>\n",
       "</div>"
      ],
      "text/plain": [
       "         Unnamed: 0        Date  AveragePrice  Total Volume          4046  \\\n",
       "count   1517.000000        1517   1517.000000  1.517000e+03  1.517000e+03   \n",
       "unique          NaN         104           NaN           NaN           NaN   \n",
       "top             NaN  05-04-2015           NaN           NaN           NaN   \n",
       "freq            NaN          34           NaN           NaN           NaN   \n",
       "mean      26.995386         NaN      1.074990  1.601879e+06  6.464387e+05   \n",
       "std       14.848287         NaN      0.188891  4.433143e+06  1.947614e+06   \n",
       "min        0.000000         NaN      0.490000  3.875074e+04  4.677200e+02   \n",
       "25%       14.000000         NaN      0.980000  1.474700e+05  2.040034e+04   \n",
       "50%       29.000000         NaN      1.080000  4.027919e+05  8.175117e+04   \n",
       "75%       39.000000         NaN      1.190000  9.819751e+05  3.775785e+05   \n",
       "max       51.000000         NaN      1.680000  4.465546e+07  1.893304e+07   \n",
       "\n",
       "                4225          4770    Total Bags    Small Bags    Large Bags  \\\n",
       "count   1.517000e+03  1.517000e+03  1.517000e+03  1.517000e+03  1.517000e+03   \n",
       "unique           NaN           NaN           NaN           NaN           NaN   \n",
       "top              NaN           NaN           NaN           NaN           NaN   \n",
       "freq             NaN           NaN           NaN           NaN           NaN   \n",
       "mean    6.114375e+05  5.040550e+04  2.935974e+05  2.487736e+05  4.264205e+04   \n",
       "std     1.672906e+06  1.377812e+05  7.579765e+05  6.474765e+05  1.182157e+05   \n",
       "min     1.783770e+03  0.000000e+00  3.311770e+03  3.311770e+03  0.000000e+00   \n",
       "25%     4.147606e+04  9.112500e+02  3.620689e+04  2.972722e+04  5.407400e+02   \n",
       "50%     1.186649e+05  7.688170e+03  7.397906e+04  6.237569e+04  5.044350e+03   \n",
       "75%     4.851503e+05  2.916730e+04  1.576097e+05  1.461994e+05  2.926767e+04   \n",
       "max     1.895648e+07  1.381516e+06  6.736304e+06  5.893642e+06  1.121076e+06   \n",
       "\n",
       "          XLarge Bags          type         year      region  \n",
       "count     1517.000000          1517  1517.000000        1517  \n",
       "unique            NaN             1          NaN          51  \n",
       "top               NaN  conventional          NaN  California  \n",
       "freq              NaN          1517          NaN          76  \n",
       "mean      2181.771074           NaN  2015.162821         NaN  \n",
       "std       7455.712144           NaN     0.369324         NaN  \n",
       "min          0.000000           NaN  2015.000000         NaN  \n",
       "25%          0.000000           NaN  2015.000000         NaN  \n",
       "50%          0.000000           NaN  2015.000000         NaN  \n",
       "75%        401.480000           NaN  2015.000000         NaN  \n",
       "max     108072.790000           NaN  2016.000000         NaN  "
      ]
     },
     "execution_count": 22,
     "metadata": {},
     "output_type": "execute_result"
    }
   ],
   "source": [
    "df.describe(include=\"all\")"
   ]
  },
  {
   "cell_type": "markdown",
   "metadata": {},
   "source": [
    "Since there is one index or serial column, the same can be removed"
   ]
  },
  {
   "cell_type": "code",
   "execution_count": 23,
   "metadata": {},
   "outputs": [],
   "source": [
    "df.drop(\"Unnamed: 0\", axis=1,inplace=True)"
   ]
  },
  {
   "cell_type": "code",
   "execution_count": 24,
   "metadata": {},
   "outputs": [
    {
     "data": {
      "text/html": [
       "<div>\n",
       "<style scoped>\n",
       "    .dataframe tbody tr th:only-of-type {\n",
       "        vertical-align: middle;\n",
       "    }\n",
       "\n",
       "    .dataframe tbody tr th {\n",
       "        vertical-align: top;\n",
       "    }\n",
       "\n",
       "    .dataframe thead th {\n",
       "        text-align: right;\n",
       "    }\n",
       "</style>\n",
       "<table border=\"1\" class=\"dataframe\">\n",
       "  <thead>\n",
       "    <tr style=\"text-align: right;\">\n",
       "      <th></th>\n",
       "      <th>Date</th>\n",
       "      <th>AveragePrice</th>\n",
       "      <th>Total Volume</th>\n",
       "      <th>4046</th>\n",
       "      <th>4225</th>\n",
       "      <th>4770</th>\n",
       "      <th>Total Bags</th>\n",
       "      <th>Small Bags</th>\n",
       "      <th>Large Bags</th>\n",
       "      <th>XLarge Bags</th>\n",
       "      <th>type</th>\n",
       "      <th>year</th>\n",
       "      <th>region</th>\n",
       "    </tr>\n",
       "  </thead>\n",
       "  <tbody>\n",
       "    <tr>\n",
       "      <th>0</th>\n",
       "      <td>27-12-2015</td>\n",
       "      <td>1.33</td>\n",
       "      <td>64236.62</td>\n",
       "      <td>1036.74</td>\n",
       "      <td>54454.85</td>\n",
       "      <td>48.16</td>\n",
       "      <td>8696.87</td>\n",
       "      <td>8603.62</td>\n",
       "      <td>93.25</td>\n",
       "      <td>0.0</td>\n",
       "      <td>conventional</td>\n",
       "      <td>2015</td>\n",
       "      <td>Albany</td>\n",
       "    </tr>\n",
       "    <tr>\n",
       "      <th>1</th>\n",
       "      <td>20-12-2015</td>\n",
       "      <td>1.35</td>\n",
       "      <td>54876.98</td>\n",
       "      <td>674.28</td>\n",
       "      <td>44638.81</td>\n",
       "      <td>58.33</td>\n",
       "      <td>9505.56</td>\n",
       "      <td>9408.07</td>\n",
       "      <td>97.49</td>\n",
       "      <td>0.0</td>\n",
       "      <td>conventional</td>\n",
       "      <td>2015</td>\n",
       "      <td>Albany</td>\n",
       "    </tr>\n",
       "    <tr>\n",
       "      <th>2</th>\n",
       "      <td>13-12-2015</td>\n",
       "      <td>0.93</td>\n",
       "      <td>118220.22</td>\n",
       "      <td>794.70</td>\n",
       "      <td>109149.67</td>\n",
       "      <td>130.50</td>\n",
       "      <td>8145.35</td>\n",
       "      <td>8042.21</td>\n",
       "      <td>103.14</td>\n",
       "      <td>0.0</td>\n",
       "      <td>conventional</td>\n",
       "      <td>2015</td>\n",
       "      <td>Albany</td>\n",
       "    </tr>\n",
       "    <tr>\n",
       "      <th>3</th>\n",
       "      <td>06-12-2015</td>\n",
       "      <td>1.08</td>\n",
       "      <td>78992.15</td>\n",
       "      <td>1132.00</td>\n",
       "      <td>71976.41</td>\n",
       "      <td>72.58</td>\n",
       "      <td>5811.16</td>\n",
       "      <td>5677.40</td>\n",
       "      <td>133.76</td>\n",
       "      <td>0.0</td>\n",
       "      <td>conventional</td>\n",
       "      <td>2015</td>\n",
       "      <td>Albany</td>\n",
       "    </tr>\n",
       "    <tr>\n",
       "      <th>4</th>\n",
       "      <td>29-11-2015</td>\n",
       "      <td>1.28</td>\n",
       "      <td>51039.60</td>\n",
       "      <td>941.48</td>\n",
       "      <td>43838.39</td>\n",
       "      <td>75.78</td>\n",
       "      <td>6183.95</td>\n",
       "      <td>5986.26</td>\n",
       "      <td>197.69</td>\n",
       "      <td>0.0</td>\n",
       "      <td>conventional</td>\n",
       "      <td>2015</td>\n",
       "      <td>Albany</td>\n",
       "    </tr>\n",
       "  </tbody>\n",
       "</table>\n",
       "</div>"
      ],
      "text/plain": [
       "         Date  AveragePrice  Total Volume     4046       4225    4770  \\\n",
       "0  27-12-2015          1.33      64236.62  1036.74   54454.85   48.16   \n",
       "1  20-12-2015          1.35      54876.98   674.28   44638.81   58.33   \n",
       "2  13-12-2015          0.93     118220.22   794.70  109149.67  130.50   \n",
       "3  06-12-2015          1.08      78992.15  1132.00   71976.41   72.58   \n",
       "4  29-11-2015          1.28      51039.60   941.48   43838.39   75.78   \n",
       "\n",
       "   Total Bags  Small Bags  Large Bags  XLarge Bags          type  year  region  \n",
       "0     8696.87     8603.62       93.25          0.0  conventional  2015  Albany  \n",
       "1     9505.56     9408.07       97.49          0.0  conventional  2015  Albany  \n",
       "2     8145.35     8042.21      103.14          0.0  conventional  2015  Albany  \n",
       "3     5811.16     5677.40      133.76          0.0  conventional  2015  Albany  \n",
       "4     6183.95     5986.26      197.69          0.0  conventional  2015  Albany  "
      ]
     },
     "execution_count": 24,
     "metadata": {},
     "output_type": "execute_result"
    }
   ],
   "source": [
    "df.head()"
   ]
  },
  {
   "cell_type": "code",
   "execution_count": 25,
   "metadata": {
    "scrolled": true
   },
   "outputs": [
    {
     "name": "stdout",
     "output_type": "stream",
     "text": [
      "<class 'pandas.core.frame.DataFrame'>\n",
      "RangeIndex: 1517 entries, 0 to 1516\n",
      "Data columns (total 13 columns):\n",
      " #   Column        Non-Null Count  Dtype  \n",
      "---  ------        --------------  -----  \n",
      " 0   Date          1517 non-null   object \n",
      " 1   AveragePrice  1517 non-null   float64\n",
      " 2   Total Volume  1517 non-null   float64\n",
      " 3   4046          1517 non-null   float64\n",
      " 4   4225          1517 non-null   float64\n",
      " 5   4770          1517 non-null   float64\n",
      " 6   Total Bags    1517 non-null   float64\n",
      " 7   Small Bags    1517 non-null   float64\n",
      " 8   Large Bags    1517 non-null   float64\n",
      " 9   XLarge Bags   1517 non-null   float64\n",
      " 10  type          1517 non-null   object \n",
      " 11  year          1517 non-null   int64  \n",
      " 12  region        1517 non-null   object \n",
      "dtypes: float64(9), int64(1), object(3)\n",
      "memory usage: 136.4+ KB\n"
     ]
    }
   ],
   "source": [
    "df.info()"
   ]
  },
  {
   "cell_type": "markdown",
   "metadata": {},
   "source": [
    "# Checking for Missing Data"
   ]
  },
  {
   "cell_type": "code",
   "execution_count": 27,
   "metadata": {},
   "outputs": [
    {
     "data": {
      "text/plain": [
       "Date            0\n",
       "AveragePrice    0\n",
       "Total Volume    0\n",
       "4046            0\n",
       "4225            0\n",
       "4770            0\n",
       "Total Bags      0\n",
       "Small Bags      0\n",
       "Large Bags      0\n",
       "XLarge Bags     0\n",
       "type            0\n",
       "year            0\n",
       "region          0\n",
       "dtype: int64"
      ]
     },
     "execution_count": 27,
     "metadata": {},
     "output_type": "execute_result"
    }
   ],
   "source": [
    "df.isnull().sum()"
   ]
  },
  {
   "cell_type": "raw",
   "metadata": {},
   "source": [
    "This shows that there are no missing data "
   ]
  },
  {
   "cell_type": "code",
   "execution_count": 29,
   "metadata": {},
   "outputs": [
    {
     "data": {
      "text/plain": [
       "Index(['Date', 'AveragePrice', 'Total Volume', '4046', '4225', '4770',\n",
       "       'Total Bags', 'Small Bags', 'Large Bags', 'XLarge Bags', 'type', 'year',\n",
       "       'region'],\n",
       "      dtype='object')"
      ]
     },
     "execution_count": 29,
     "metadata": {},
     "output_type": "execute_result"
    }
   ],
   "source": [
    "df.columns"
   ]
  },
  {
   "cell_type": "code",
   "execution_count": 33,
   "metadata": {},
   "outputs": [
    {
     "data": {
      "text/plain": [
       "array([2015, 2016], dtype=int64)"
      ]
     },
     "execution_count": 33,
     "metadata": {},
     "output_type": "execute_result"
    }
   ],
   "source": [
    "df.year.unique()"
   ]
  },
  {
   "cell_type": "markdown",
   "metadata": {},
   "source": [
    "Hence. we have data for two years for analysis i.e 2015 & 2016 "
   ]
  },
  {
   "cell_type": "markdown",
   "metadata": {},
   "source": [
    "# Data Visualization"
   ]
  },
  {
   "cell_type": "markdown",
   "metadata": {},
   "source": [
    "Since our target variable is AveragePrice , we will focus on it and find the relationship with other variables"
   ]
  },
  {
   "cell_type": "code",
   "execution_count": 34,
   "metadata": {},
   "outputs": [
    {
     "data": {
      "image/png": "[encoded data removed]",
      "text/plain": [
       "<Figure size 432x288 with 1 Axes>"
      ]
     },
     "metadata": {
      "needs_background": "light"
     },
     "output_type": "display_data"
    }
   ],
   "source": [
    "sb.distplot(df[\"AveragePrice\"])\n",
    "plt.title(\"Average Price\")\n",
    "plt.show()"
   ]
  },
  {
   "cell_type": "markdown",
   "metadata": {},
   "source": [
    "It is clear from the above graph that the average price ranges between 0.3 & 18 The upper values of the distribution are at 3.0 Most of the data is concentrated between 0.9 to 1.2"
   ]
  },
  {
   "cell_type": "raw",
   "metadata": {},
   "source": [
    "sb.boxplot(x=\"year\", y=\"AveragePrice\", data=df)\n",
    "plt.title(\"Average Price Each year\")\n",
    "plt.show()"
   ]
  },
  {
   "cell_type": "markdown",
   "metadata": {},
   "source": [
    "This shows that the average price of avocado has incresed in the year 2016 as compared to year 2015"
   ]
  },
  {
   "cell_type": "markdown",
   "metadata": {},
   "source": [
    "# Average Price In Each Region"
   ]
  },
  {
   "cell_type": "code",
   "execution_count": 58,
   "metadata": {},
   "outputs": [
    {
     "data": {
      "text/plain": [
       "Text(0.5, 1.0, 'Average Price in each Region')"
      ]
     },
     "execution_count": 58,
     "metadata": {},
     "output_type": "execute_result"
    },
    {
     "data": {
      "image/png": "[encoded data removed]",
      "text/plain": [
       "<Figure size 1440x1152 with 1 Axes>"
      ]
     },
     "metadata": {
      "needs_background": "light"
     },
     "output_type": "display_data"
    }
   ],
   "source": [
    "\n",
    "plt.figure(figsize= (20,16))\n",
    "sb.boxplot(x=\"region\", y=\"AveragePrice\", data=df, width =2, whis=4)\n",
    "plt.xticks(rotation=\"vertical\")\n",
    "plt.title(\"Average Price in each Region\")"
   ]
  },
  {
   "cell_type": "markdown",
   "metadata": {},
   "source": [
    "# Relation Between Total Bags and Small, Large and XLarge Bags"
   ]
  },
  {
   "cell_type": "code",
   "execution_count": 61,
   "metadata": {},
   "outputs": [
    {
     "data": {
      "text/plain": [
       "<seaborn.axisgrid.PairGrid at 0x140caa18>"
      ]
     },
     "execution_count": 61,
     "metadata": {},
     "output_type": "execute_result"
    },
    {
     "data": {
      "image/png": "[encoded data removed]",
      "text/plain": [
       "<Figure size 1080x360 with 3 Axes>"
      ]
     },
     "metadata": {
      "needs_background": "light"
     },
     "output_type": "display_data"
    }
   ],
   "source": [
    "sb.pairplot(df, x_vars=['Small Bags', 'Large Bags', 'XLarge Bags'], y_vars='Total Bags', size=5, aspect=1, kind='reg')"
   ]
  },
  {
   "cell_type": "markdown",
   "metadata": {},
   "source": [
    "The Graph shows that:\n",
    "1.There is a strong co-relation between Total Bags and Small Bags.\n",
    "2.We can say weak co-relation between Total Bags and XLarge Bags.\n"
   ]
  },
  {
   "cell_type": "markdown",
   "metadata": {},
   "source": [
    "# Region and Year Relation"
   ]
  },
  {
   "cell_type": "code",
   "execution_count": 72,
   "metadata": {},
   "outputs": [
    {
     "data": {
      "text/plain": [
       "Text(0.5, 1.0, 'Yearly Average Price in Each Region')"
      ]
     },
     "execution_count": 72,
     "metadata": {},
     "output_type": "execute_result"
    },
    {
     "data": {
      "image/png": "[encoded data removed]",
      "text/plain": [
       "<Figure size 1008x1584 with 1 Axes>"
      ]
     },
     "metadata": {},
     "output_type": "display_data"
    }
   ],
   "source": [
    "\n",
    "\n",
    "plt.figure(figsize=(14,22))\n",
    "sb.set_style('whitegrid')\n",
    "sb.pointplot(x='AveragePrice',y='region',data=df, hue='year',join=False)\n",
    "plt.xticks(np.linspace(1,2,5))\n",
    "plt.xlabel('region',{'fontsize' : 'large'})\n",
    "plt.ylabel('AveragePrice',{'fontsize':'large'})\n",
    "plt.title(\"Yearly Average Price in Each Region\",{'fontsize':20})"
   ]
  },
  {
   "cell_type": "code",
   "execution_count": 73,
   "metadata": {},
   "outputs": [
    {
     "data": {
      "text/html": [
       "<div>\n",
       "<style scoped>\n",
       "    .dataframe tbody tr th:only-of-type {\n",
       "        vertical-align: middle;\n",
       "    }\n",
       "\n",
       "    .dataframe tbody tr th {\n",
       "        vertical-align: top;\n",
       "    }\n",
       "\n",
       "    .dataframe thead th {\n",
       "        text-align: right;\n",
       "    }\n",
       "</style>\n",
       "<table border=\"1\" class=\"dataframe\">\n",
       "  <thead>\n",
       "    <tr style=\"text-align: right;\">\n",
       "      <th></th>\n",
       "      <th>AveragePrice</th>\n",
       "      <th>Total Volume</th>\n",
       "      <th>4046</th>\n",
       "      <th>4225</th>\n",
       "      <th>4770</th>\n",
       "      <th>Total Bags</th>\n",
       "      <th>Small Bags</th>\n",
       "      <th>Large Bags</th>\n",
       "      <th>XLarge Bags</th>\n",
       "      <th>year</th>\n",
       "    </tr>\n",
       "  </thead>\n",
       "  <tbody>\n",
       "    <tr>\n",
       "      <th>AveragePrice</th>\n",
       "      <td>1.000000</td>\n",
       "      <td>-0.140470</td>\n",
       "      <td>-0.190096</td>\n",
       "      <td>-0.092084</td>\n",
       "      <td>-0.100567</td>\n",
       "      <td>-0.111597</td>\n",
       "      <td>-0.097682</td>\n",
       "      <td>-0.177480</td>\n",
       "      <td>-0.048284</td>\n",
       "      <td>0.178683</td>\n",
       "    </tr>\n",
       "    <tr>\n",
       "      <th>Total Volume</th>\n",
       "      <td>-0.140470</td>\n",
       "      <td>1.000000</td>\n",
       "      <td>0.985568</td>\n",
       "      <td>0.987154</td>\n",
       "      <td>0.934347</td>\n",
       "      <td>0.967689</td>\n",
       "      <td>0.960642</td>\n",
       "      <td>0.910226</td>\n",
       "      <td>0.521717</td>\n",
       "      <td>-0.004189</td>\n",
       "    </tr>\n",
       "    <tr>\n",
       "      <th>4046</th>\n",
       "      <td>-0.190096</td>\n",
       "      <td>0.985568</td>\n",
       "      <td>1.000000</td>\n",
       "      <td>0.951952</td>\n",
       "      <td>0.898570</td>\n",
       "      <td>0.930395</td>\n",
       "      <td>0.922278</td>\n",
       "      <td>0.884229</td>\n",
       "      <td>0.474063</td>\n",
       "      <td>-0.040439</td>\n",
       "    </tr>\n",
       "    <tr>\n",
       "      <th>4225</th>\n",
       "      <td>-0.092084</td>\n",
       "      <td>0.987154</td>\n",
       "      <td>0.951952</td>\n",
       "      <td>1.000000</td>\n",
       "      <td>0.927757</td>\n",
       "      <td>0.951779</td>\n",
       "      <td>0.943988</td>\n",
       "      <td>0.900496</td>\n",
       "      <td>0.504718</td>\n",
       "      <td>-0.007254</td>\n",
       "    </tr>\n",
       "    <tr>\n",
       "      <th>4770</th>\n",
       "      <td>-0.100567</td>\n",
       "      <td>0.934347</td>\n",
       "      <td>0.898570</td>\n",
       "      <td>0.927757</td>\n",
       "      <td>1.000000</td>\n",
       "      <td>0.926405</td>\n",
       "      <td>0.923607</td>\n",
       "      <td>0.840523</td>\n",
       "      <td>0.646053</td>\n",
       "      <td>0.029222</td>\n",
       "    </tr>\n",
       "    <tr>\n",
       "      <th>Total Bags</th>\n",
       "      <td>-0.111597</td>\n",
       "      <td>0.967689</td>\n",
       "      <td>0.930395</td>\n",
       "      <td>0.951779</td>\n",
       "      <td>0.926405</td>\n",
       "      <td>1.000000</td>\n",
       "      <td>0.997341</td>\n",
       "      <td>0.911336</td>\n",
       "      <td>0.601856</td>\n",
       "      <td>0.090108</td>\n",
       "    </tr>\n",
       "    <tr>\n",
       "      <th>Small Bags</th>\n",
       "      <td>-0.097682</td>\n",
       "      <td>0.960642</td>\n",
       "      <td>0.922278</td>\n",
       "      <td>0.943988</td>\n",
       "      <td>0.923607</td>\n",
       "      <td>0.997341</td>\n",
       "      <td>1.000000</td>\n",
       "      <td>0.879131</td>\n",
       "      <td>0.611300</td>\n",
       "      <td>0.106382</td>\n",
       "    </tr>\n",
       "    <tr>\n",
       "      <th>Large Bags</th>\n",
       "      <td>-0.177480</td>\n",
       "      <td>0.910226</td>\n",
       "      <td>0.884229</td>\n",
       "      <td>0.900496</td>\n",
       "      <td>0.840523</td>\n",
       "      <td>0.911336</td>\n",
       "      <td>0.879131</td>\n",
       "      <td>1.000000</td>\n",
       "      <td>0.447779</td>\n",
       "      <td>-0.018678</td>\n",
       "    </tr>\n",
       "    <tr>\n",
       "      <th>XLarge Bags</th>\n",
       "      <td>-0.048284</td>\n",
       "      <td>0.521717</td>\n",
       "      <td>0.474063</td>\n",
       "      <td>0.504718</td>\n",
       "      <td>0.646053</td>\n",
       "      <td>0.601856</td>\n",
       "      <td>0.611300</td>\n",
       "      <td>0.447779</td>\n",
       "      <td>1.000000</td>\n",
       "      <td>0.218342</td>\n",
       "    </tr>\n",
       "    <tr>\n",
       "      <th>year</th>\n",
       "      <td>0.178683</td>\n",
       "      <td>-0.004189</td>\n",
       "      <td>-0.040439</td>\n",
       "      <td>-0.007254</td>\n",
       "      <td>0.029222</td>\n",
       "      <td>0.090108</td>\n",
       "      <td>0.106382</td>\n",
       "      <td>-0.018678</td>\n",
       "      <td>0.218342</td>\n",
       "      <td>1.000000</td>\n",
       "    </tr>\n",
       "  </tbody>\n",
       "</table>\n",
       "</div>"
      ],
      "text/plain": [
       "              AveragePrice  Total Volume      4046      4225      4770  \\\n",
       "AveragePrice      1.000000     -0.140470 -0.190096 -0.092084 -0.100567   \n",
       "Total Volume     -0.140470      1.000000  0.985568  0.987154  0.934347   \n",
       "4046             -0.190096      0.985568  1.000000  0.951952  0.898570   \n",
       "4225             -0.092084      0.987154  0.951952  1.000000  0.927757   \n",
       "4770             -0.100567      0.934347  0.898570  0.927757  1.000000   \n",
       "Total Bags       -0.111597      0.967689  0.930395  0.951779  0.926405   \n",
       "Small Bags       -0.097682      0.960642  0.922278  0.943988  0.923607   \n",
       "Large Bags       -0.177480      0.910226  0.884229  0.900496  0.840523   \n",
       "XLarge Bags      -0.048284      0.521717  0.474063  0.504718  0.646053   \n",
       "year              0.178683     -0.004189 -0.040439 -0.007254  0.029222   \n",
       "\n",
       "              Total Bags  Small Bags  Large Bags  XLarge Bags      year  \n",
       "AveragePrice   -0.111597   -0.097682   -0.177480    -0.048284  0.178683  \n",
       "Total Volume    0.967689    0.960642    0.910226     0.521717 -0.004189  \n",
       "4046            0.930395    0.922278    0.884229     0.474063 -0.040439  \n",
       "4225            0.951779    0.943988    0.900496     0.504718 -0.007254  \n",
       "4770            0.926405    0.923607    0.840523     0.646053  0.029222  \n",
       "Total Bags      1.000000    0.997341    0.911336     0.601856  0.090108  \n",
       "Small Bags      0.997341    1.000000    0.879131     0.611300  0.106382  \n",
       "Large Bags      0.911336    0.879131    1.000000     0.447779 -0.018678  \n",
       "XLarge Bags     0.601856    0.611300    0.447779     1.000000  0.218342  \n",
       "year            0.090108    0.106382   -0.018678     0.218342  1.000000  "
      ]
     },
     "execution_count": 73,
     "metadata": {},
     "output_type": "execute_result"
    }
   ],
   "source": [
    "df.corr()"
   ]
  },
  {
   "cell_type": "code",
   "execution_count": 78,
   "metadata": {},
   "outputs": [
    {
     "data": {
      "image/png": "[encoded data removed]",
      "text/plain": [
       "<Figure size 1152x576 with 2 Axes>"
      ]
     },
     "metadata": {},
     "output_type": "display_data"
    }
   ],
   "source": [
    "corr=df.corr()\n",
    "plt.figure(figsize=(16,8))\n",
    "sb.heatmap(corr,annot=True, linewidths=2, fmt=\".2f\")\n",
    "plt.show()"
   ]
  },
  {
   "cell_type": "code",
   "execution_count": null,
   "metadata": {},
   "outputs": [],
   "source": [
    "The graph depicts:\n",
    "\n",
    "1. High negative correlation between Average Price and Total Volume, Small Bags Large Bags and Xlarge Bags\n",
    "2. Positive correlation between Average Price and Year\n",
    "\n",
    "\n"
   ]
  },
  {
   "cell_type": "markdown",
   "metadata": {},
   "source": [
    "# Building Model for Determining the Average Price of Avocados"
   ]
  },
  {
   "cell_type": "markdown",
   "metadata": {},
   "source": [
    "Data Trnasformation"
   ]
  },
  {
   "cell_type": "markdown",
   "metadata": {},
   "source": [
    "Since The Columnbs like Date , Total Volume, Year and Region has no effect on Price we can drop the same "
   ]
  },
  {
   "cell_type": "code",
   "execution_count": 99,
   "metadata": {},
   "outputs": [],
   "source": [
    "df.drop(['type'], axis = 1,inplace = True)"
   ]
  },
  {
   "cell_type": "code",
   "execution_count": 100,
   "metadata": {},
   "outputs": [
    {
     "data": {
      "text/plain": [
       "Index(['AveragePrice', '4046', '4225', '4770', 'Small Bags', 'Large Bags',\n",
       "       'XLarge Bags'],\n",
       "      dtype='object')"
      ]
     },
     "execution_count": 100,
     "metadata": {},
     "output_type": "execute_result"
    }
   ],
   "source": [
    "df.columns"
   ]
  },
  {
   "cell_type": "markdown",
   "metadata": {},
   "source": [
    "We are calculting Average price of Avocado considering columns:\n",
    "'AveragePrice', '4046', '4225', '4770', 'Small Bags', 'Large Bags', 'XLarge Bags"
   ]
  },
  {
   "cell_type": "code",
   "execution_count": 105,
   "metadata": {},
   "outputs": [],
   "source": [
    "considered_cols = ['4046', '4225', '4770', 'Small Bags', 'Large Bags',\n",
    "       'XLarge Bags']\n",
    "x = df[considered_cols]"
   ]
  },
  {
   "cell_type": "code",
   "execution_count": 106,
   "metadata": {},
   "outputs": [
    {
     "data": {
      "text/html": [
       "<div>\n",
       "<style scoped>\n",
       "    .dataframe tbody tr th:only-of-type {\n",
       "        vertical-align: middle;\n",
       "    }\n",
       "\n",
       "    .dataframe tbody tr th {\n",
       "        vertical-align: top;\n",
       "    }\n",
       "\n",
       "    .dataframe thead th {\n",
       "        text-align: right;\n",
       "    }\n",
       "</style>\n",
       "<table border=\"1\" class=\"dataframe\">\n",
       "  <thead>\n",
       "    <tr style=\"text-align: right;\">\n",
       "      <th></th>\n",
       "      <th>4046</th>\n",
       "      <th>4225</th>\n",
       "      <th>4770</th>\n",
       "      <th>Small Bags</th>\n",
       "      <th>Large Bags</th>\n",
       "      <th>XLarge Bags</th>\n",
       "    </tr>\n",
       "  </thead>\n",
       "  <tbody>\n",
       "    <tr>\n",
       "      <th>0</th>\n",
       "      <td>1036.74</td>\n",
       "      <td>54454.85</td>\n",
       "      <td>48.16</td>\n",
       "      <td>8603.62</td>\n",
       "      <td>93.25</td>\n",
       "      <td>0.00</td>\n",
       "    </tr>\n",
       "    <tr>\n",
       "      <th>1</th>\n",
       "      <td>674.28</td>\n",
       "      <td>44638.81</td>\n",
       "      <td>58.33</td>\n",
       "      <td>9408.07</td>\n",
       "      <td>97.49</td>\n",
       "      <td>0.00</td>\n",
       "    </tr>\n",
       "    <tr>\n",
       "      <th>2</th>\n",
       "      <td>794.70</td>\n",
       "      <td>109149.67</td>\n",
       "      <td>130.50</td>\n",
       "      <td>8042.21</td>\n",
       "      <td>103.14</td>\n",
       "      <td>0.00</td>\n",
       "    </tr>\n",
       "    <tr>\n",
       "      <th>3</th>\n",
       "      <td>1132.00</td>\n",
       "      <td>71976.41</td>\n",
       "      <td>72.58</td>\n",
       "      <td>5677.40</td>\n",
       "      <td>133.76</td>\n",
       "      <td>0.00</td>\n",
       "    </tr>\n",
       "    <tr>\n",
       "      <th>4</th>\n",
       "      <td>941.48</td>\n",
       "      <td>43838.39</td>\n",
       "      <td>75.78</td>\n",
       "      <td>5986.26</td>\n",
       "      <td>197.69</td>\n",
       "      <td>0.00</td>\n",
       "    </tr>\n",
       "    <tr>\n",
       "      <th>...</th>\n",
       "      <td>...</td>\n",
       "      <td>...</td>\n",
       "      <td>...</td>\n",
       "      <td>...</td>\n",
       "      <td>...</td>\n",
       "      <td>...</td>\n",
       "    </tr>\n",
       "    <tr>\n",
       "      <th>1512</th>\n",
       "      <td>57529.11</td>\n",
       "      <td>56366.66</td>\n",
       "      <td>17531.78</td>\n",
       "      <td>48823.53</td>\n",
       "      <td>10354.65</td>\n",
       "      <td>240.28</td>\n",
       "    </tr>\n",
       "    <tr>\n",
       "      <th>1513</th>\n",
       "      <td>43325.87</td>\n",
       "      <td>52189.61</td>\n",
       "      <td>19419.57</td>\n",
       "      <td>54704.14</td>\n",
       "      <td>8596.56</td>\n",
       "      <td>0.00</td>\n",
       "    </tr>\n",
       "    <tr>\n",
       "      <th>1514</th>\n",
       "      <td>46364.75</td>\n",
       "      <td>52893.38</td>\n",
       "      <td>16736.92</td>\n",
       "      <td>53332.61</td>\n",
       "      <td>8258.16</td>\n",
       "      <td>825.00</td>\n",
       "    </tr>\n",
       "    <tr>\n",
       "      <th>1515</th>\n",
       "      <td>54110.79</td>\n",
       "      <td>53593.58</td>\n",
       "      <td>17495.42</td>\n",
       "      <td>55653.47</td>\n",
       "      <td>8278.26</td>\n",
       "      <td>0.00</td>\n",
       "    </tr>\n",
       "    <tr>\n",
       "      <th>1516</th>\n",
       "      <td>43116.41</td>\n",
       "      <td>54193.42</td>\n",
       "      <td>16563.91</td>\n",
       "      <td>57456.21</td>\n",
       "      <td>11648.35</td>\n",
       "      <td>0.00</td>\n",
       "    </tr>\n",
       "  </tbody>\n",
       "</table>\n",
       "<p>1517 rows × 6 columns</p>\n",
       "</div>"
      ],
      "text/plain": [
       "          4046       4225      4770  Small Bags  Large Bags  XLarge Bags\n",
       "0      1036.74   54454.85     48.16     8603.62       93.25         0.00\n",
       "1       674.28   44638.81     58.33     9408.07       97.49         0.00\n",
       "2       794.70  109149.67    130.50     8042.21      103.14         0.00\n",
       "3      1132.00   71976.41     72.58     5677.40      133.76         0.00\n",
       "4       941.48   43838.39     75.78     5986.26      197.69         0.00\n",
       "...        ...        ...       ...         ...         ...          ...\n",
       "1512  57529.11   56366.66  17531.78    48823.53    10354.65       240.28\n",
       "1513  43325.87   52189.61  19419.57    54704.14     8596.56         0.00\n",
       "1514  46364.75   52893.38  16736.92    53332.61     8258.16       825.00\n",
       "1515  54110.79   53593.58  17495.42    55653.47     8278.26         0.00\n",
       "1516  43116.41   54193.42  16563.91    57456.21    11648.35         0.00\n",
       "\n",
       "[1517 rows x 6 columns]"
      ]
     },
     "execution_count": 106,
     "metadata": {},
     "output_type": "execute_result"
    }
   ],
   "source": [
    "x"
   ]
  },
  {
   "cell_type": "code",
   "execution_count": 107,
   "metadata": {},
   "outputs": [],
   "source": [
    "y =df.AveragePrice"
   ]
  },
  {
   "cell_type": "code",
   "execution_count": 108,
   "metadata": {},
   "outputs": [
    {
     "data": {
      "text/plain": [
       "0       1.33\n",
       "1       1.35\n",
       "2       0.93\n",
       "3       1.08\n",
       "4       1.28\n",
       "        ... \n",
       "1512    1.39\n",
       "1513    1.51\n",
       "1514    1.48\n",
       "1515    1.47\n",
       "1516    1.43\n",
       "Name: AveragePrice, Length: 1517, dtype: float64"
      ]
     },
     "execution_count": 108,
     "metadata": {},
     "output_type": "execute_result"
    }
   ],
   "source": [
    "y"
   ]
  },
  {
   "cell_type": "markdown",
   "metadata": {},
   "source": [
    "# Removing Outliers"
   ]
  },
  {
   "cell_type": "code",
   "execution_count": 122,
   "metadata": {},
   "outputs": [
    {
     "data": {
      "text/plain": [
       "(array([ 398,  401,  409,  412,  412,  760, 1016, 1017, 1059, 1182, 1182,\n",
       "        1182, 1182, 1182, 1182, 1183, 1183, 1183, 1183, 1183, 1184, 1184,\n",
       "        1184, 1184, 1184, 1184, 1185, 1185, 1185, 1185, 1185, 1186, 1186,\n",
       "        1186, 1186, 1186, 1187, 1187, 1187, 1187, 1187, 1187, 1188, 1188,\n",
       "        1188, 1188, 1188, 1189, 1189, 1189, 1189, 1189, 1189, 1190, 1190,\n",
       "        1190, 1190, 1190, 1190, 1191, 1191, 1191, 1191, 1191, 1191, 1192,\n",
       "        1192, 1192, 1192, 1192, 1193, 1193, 1193, 1193, 1193, 1194, 1194,\n",
       "        1194, 1194, 1194, 1195, 1195, 1195, 1195, 1195, 1195, 1196, 1196,\n",
       "        1196, 1196, 1196, 1197, 1197, 1197, 1197, 1197, 1198, 1198, 1198,\n",
       "        1198, 1198, 1198, 1199, 1199, 1199, 1199, 1199, 1200, 1200, 1200,\n",
       "        1200, 1200, 1201, 1201, 1201, 1201, 1201, 1202, 1202, 1202, 1202,\n",
       "        1202, 1202, 1203, 1203, 1203, 1203, 1203, 1204, 1204, 1204, 1204,\n",
       "        1204, 1205, 1205, 1205, 1205, 1205, 1206, 1206, 1206, 1206, 1206,\n",
       "        1207, 1208, 1209, 1210, 1212, 1213, 1215, 1216, 1217, 1218, 1222,\n",
       "        1411, 1450, 1451, 1452, 1453, 1454, 1455, 1456, 1457, 1457, 1458,\n",
       "        1459, 1460, 1461, 1462, 1463, 1464, 1465, 1466, 1467, 1468, 1469,\n",
       "        1470, 1471, 1472, 1473, 1474, 1475, 1476, 1477, 1478, 1479, 1480,\n",
       "        1481, 1483, 1483, 1484, 1495, 1496], dtype=int32),\n",
       " array([6, 6, 6, 3, 6, 0, 6, 6, 5, 1, 2, 3, 4, 5, 6, 1, 2, 3, 4, 5, 1, 2,\n",
       "        3, 4, 5, 6, 1, 2, 3, 4, 5, 1, 2, 3, 4, 5, 1, 2, 3, 4, 5, 6, 1, 2,\n",
       "        3, 4, 5, 1, 2, 3, 4, 5, 6, 1, 2, 3, 4, 5, 6, 1, 2, 3, 4, 5, 6, 1,\n",
       "        2, 3, 4, 5, 1, 2, 3, 4, 5, 1, 2, 3, 4, 5, 1, 2, 3, 4, 5, 6, 1, 2,\n",
       "        3, 4, 5, 1, 2, 3, 4, 5, 1, 2, 3, 4, 5, 6, 1, 2, 3, 4, 5, 1, 2, 3,\n",
       "        4, 5, 1, 2, 3, 4, 5, 1, 2, 3, 4, 5, 6, 1, 2, 3, 4, 5, 1, 2, 3, 4,\n",
       "        5, 1, 2, 3, 4, 5, 1, 2, 3, 4, 5, 5, 5, 5, 5, 5, 5, 5, 5, 5, 5, 5,\n",
       "        0, 6, 6, 6, 6, 6, 6, 6, 0, 6, 0, 6, 6, 6, 6, 6, 6, 6, 6, 6, 6, 6,\n",
       "        6, 6, 6, 6, 6, 6, 6, 6, 6, 6, 6, 6, 5, 6, 5, 4, 4], dtype=int32))"
      ]
     },
     "execution_count": 122,
     "metadata": {},
     "output_type": "execute_result"
    }
   ],
   "source": [
    "import numpy as np\n",
    "from scipy.stats import zscore\n",
    "z=np.abs(zscore(df))\n",
    "threshold=3\n",
    "np.where(z>=3)"
   ]
  },
  {
   "cell_type": "code",
   "execution_count": 123,
   "metadata": {},
   "outputs": [],
   "source": [
    "df_new=df[(z<3).all(axis=1)]"
   ]
  },
  {
   "cell_type": "code",
   "execution_count": 124,
   "metadata": {},
   "outputs": [
    {
     "data": {
      "text/html": [
       "<div>\n",
       "<style scoped>\n",
       "    .dataframe tbody tr th:only-of-type {\n",
       "        vertical-align: middle;\n",
       "    }\n",
       "\n",
       "    .dataframe tbody tr th {\n",
       "        vertical-align: top;\n",
       "    }\n",
       "\n",
       "    .dataframe thead th {\n",
       "        text-align: right;\n",
       "    }\n",
       "</style>\n",
       "<table border=\"1\" class=\"dataframe\">\n",
       "  <thead>\n",
       "    <tr style=\"text-align: right;\">\n",
       "      <th></th>\n",
       "      <th>AveragePrice</th>\n",
       "      <th>4046</th>\n",
       "      <th>4225</th>\n",
       "      <th>4770</th>\n",
       "      <th>Small Bags</th>\n",
       "      <th>Large Bags</th>\n",
       "      <th>XLarge Bags</th>\n",
       "    </tr>\n",
       "  </thead>\n",
       "  <tbody>\n",
       "    <tr>\n",
       "      <th>0</th>\n",
       "      <td>1.33</td>\n",
       "      <td>1036.74</td>\n",
       "      <td>54454.85</td>\n",
       "      <td>48.16</td>\n",
       "      <td>8603.62</td>\n",
       "      <td>93.25</td>\n",
       "      <td>0.00</td>\n",
       "    </tr>\n",
       "    <tr>\n",
       "      <th>1</th>\n",
       "      <td>1.35</td>\n",
       "      <td>674.28</td>\n",
       "      <td>44638.81</td>\n",
       "      <td>58.33</td>\n",
       "      <td>9408.07</td>\n",
       "      <td>97.49</td>\n",
       "      <td>0.00</td>\n",
       "    </tr>\n",
       "    <tr>\n",
       "      <th>2</th>\n",
       "      <td>0.93</td>\n",
       "      <td>794.70</td>\n",
       "      <td>109149.67</td>\n",
       "      <td>130.50</td>\n",
       "      <td>8042.21</td>\n",
       "      <td>103.14</td>\n",
       "      <td>0.00</td>\n",
       "    </tr>\n",
       "    <tr>\n",
       "      <th>3</th>\n",
       "      <td>1.08</td>\n",
       "      <td>1132.00</td>\n",
       "      <td>71976.41</td>\n",
       "      <td>72.58</td>\n",
       "      <td>5677.40</td>\n",
       "      <td>133.76</td>\n",
       "      <td>0.00</td>\n",
       "    </tr>\n",
       "    <tr>\n",
       "      <th>4</th>\n",
       "      <td>1.28</td>\n",
       "      <td>941.48</td>\n",
       "      <td>43838.39</td>\n",
       "      <td>75.78</td>\n",
       "      <td>5986.26</td>\n",
       "      <td>197.69</td>\n",
       "      <td>0.00</td>\n",
       "    </tr>\n",
       "    <tr>\n",
       "      <th>...</th>\n",
       "      <td>...</td>\n",
       "      <td>...</td>\n",
       "      <td>...</td>\n",
       "      <td>...</td>\n",
       "      <td>...</td>\n",
       "      <td>...</td>\n",
       "      <td>...</td>\n",
       "    </tr>\n",
       "    <tr>\n",
       "      <th>1512</th>\n",
       "      <td>1.39</td>\n",
       "      <td>57529.11</td>\n",
       "      <td>56366.66</td>\n",
       "      <td>17531.78</td>\n",
       "      <td>48823.53</td>\n",
       "      <td>10354.65</td>\n",
       "      <td>240.28</td>\n",
       "    </tr>\n",
       "    <tr>\n",
       "      <th>1513</th>\n",
       "      <td>1.51</td>\n",
       "      <td>43325.87</td>\n",
       "      <td>52189.61</td>\n",
       "      <td>19419.57</td>\n",
       "      <td>54704.14</td>\n",
       "      <td>8596.56</td>\n",
       "      <td>0.00</td>\n",
       "    </tr>\n",
       "    <tr>\n",
       "      <th>1514</th>\n",
       "      <td>1.48</td>\n",
       "      <td>46364.75</td>\n",
       "      <td>52893.38</td>\n",
       "      <td>16736.92</td>\n",
       "      <td>53332.61</td>\n",
       "      <td>8258.16</td>\n",
       "      <td>825.00</td>\n",
       "    </tr>\n",
       "    <tr>\n",
       "      <th>1515</th>\n",
       "      <td>1.47</td>\n",
       "      <td>54110.79</td>\n",
       "      <td>53593.58</td>\n",
       "      <td>17495.42</td>\n",
       "      <td>55653.47</td>\n",
       "      <td>8278.26</td>\n",
       "      <td>0.00</td>\n",
       "    </tr>\n",
       "    <tr>\n",
       "      <th>1516</th>\n",
       "      <td>1.43</td>\n",
       "      <td>43116.41</td>\n",
       "      <td>54193.42</td>\n",
       "      <td>16563.91</td>\n",
       "      <td>57456.21</td>\n",
       "      <td>11648.35</td>\n",
       "      <td>0.00</td>\n",
       "    </tr>\n",
       "  </tbody>\n",
       "</table>\n",
       "<p>1436 rows × 7 columns</p>\n",
       "</div>"
      ],
      "text/plain": [
       "      AveragePrice      4046       4225      4770  Small Bags  Large Bags  \\\n",
       "0             1.33   1036.74   54454.85     48.16     8603.62       93.25   \n",
       "1             1.35    674.28   44638.81     58.33     9408.07       97.49   \n",
       "2             0.93    794.70  109149.67    130.50     8042.21      103.14   \n",
       "3             1.08   1132.00   71976.41     72.58     5677.40      133.76   \n",
       "4             1.28    941.48   43838.39     75.78     5986.26      197.69   \n",
       "...            ...       ...        ...       ...         ...         ...   \n",
       "1512          1.39  57529.11   56366.66  17531.78    48823.53    10354.65   \n",
       "1513          1.51  43325.87   52189.61  19419.57    54704.14     8596.56   \n",
       "1514          1.48  46364.75   52893.38  16736.92    53332.61     8258.16   \n",
       "1515          1.47  54110.79   53593.58  17495.42    55653.47     8278.26   \n",
       "1516          1.43  43116.41   54193.42  16563.91    57456.21    11648.35   \n",
       "\n",
       "      XLarge Bags  \n",
       "0            0.00  \n",
       "1            0.00  \n",
       "2            0.00  \n",
       "3            0.00  \n",
       "4            0.00  \n",
       "...           ...  \n",
       "1512       240.28  \n",
       "1513         0.00  \n",
       "1514       825.00  \n",
       "1515         0.00  \n",
       "1516         0.00  \n",
       "\n",
       "[1436 rows x 7 columns]"
      ]
     },
     "execution_count": 124,
     "metadata": {},
     "output_type": "execute_result"
    }
   ],
   "source": [
    "df_new"
   ]
  },
  {
   "cell_type": "code",
   "execution_count": 125,
   "metadata": {},
   "outputs": [
    {
     "data": {
      "text/plain": [
       "5.339485827290705"
      ]
     },
     "execution_count": 125,
     "metadata": {},
     "output_type": "execute_result"
    }
   ],
   "source": [
    "percentage_loss=(81/1517)*100\n",
    "percentage_loss"
   ]
  },
  {
   "cell_type": "markdown",
   "metadata": {},
   "source": [
    "# Determining Liner Regression Model"
   ]
  },
  {
   "cell_type": "code",
   "execution_count": 129,
   "metadata": {},
   "outputs": [],
   "source": [
    "from sklearn.model_selection import train_test_split\n",
    "from sklearn.linear_model import LinearRegression\n",
    "from sklearn.metrics import mean_squared_error,mean_absolute_error\n",
    "from sklearn.metrics import r2_score"
   ]
  },
  {
   "cell_type": "markdown",
   "metadata": {},
   "source": [
    "# Scaling"
   ]
  },
  {
   "cell_type": "code",
   "execution_count": 138,
   "metadata": {},
   "outputs": [
    {
     "data": {
      "text/html": [
       "<div>\n",
       "<style scoped>\n",
       "    .dataframe tbody tr th:only-of-type {\n",
       "        vertical-align: middle;\n",
       "    }\n",
       "\n",
       "    .dataframe tbody tr th {\n",
       "        vertical-align: top;\n",
       "    }\n",
       "\n",
       "    .dataframe thead th {\n",
       "        text-align: right;\n",
       "    }\n",
       "</style>\n",
       "<table border=\"1\" class=\"dataframe\">\n",
       "  <thead>\n",
       "    <tr style=\"text-align: right;\">\n",
       "      <th></th>\n",
       "      <th>AveragePrice</th>\n",
       "      <th>4046</th>\n",
       "      <th>4225</th>\n",
       "      <th>4770</th>\n",
       "      <th>Small Bags</th>\n",
       "      <th>Large Bags</th>\n",
       "      <th>XLarge Bags</th>\n",
       "    </tr>\n",
       "  </thead>\n",
       "  <tbody>\n",
       "    <tr>\n",
       "      <th>0</th>\n",
       "      <td>1.344989</td>\n",
       "      <td>-0.476055</td>\n",
       "      <td>-0.537420</td>\n",
       "      <td>-0.486320</td>\n",
       "      <td>-0.523070</td>\n",
       "      <td>-0.481439</td>\n",
       "      <td>-0.299919</td>\n",
       "    </tr>\n",
       "    <tr>\n",
       "      <th>1</th>\n",
       "      <td>1.451388</td>\n",
       "      <td>-0.476535</td>\n",
       "      <td>-0.554838</td>\n",
       "      <td>-0.486147</td>\n",
       "      <td>-0.519785</td>\n",
       "      <td>-0.481353</td>\n",
       "      <td>-0.299919</td>\n",
       "    </tr>\n",
       "    <tr>\n",
       "      <th>2</th>\n",
       "      <td>-0.782987</td>\n",
       "      <td>-0.476376</td>\n",
       "      <td>-0.440368</td>\n",
       "      <td>-0.484925</td>\n",
       "      <td>-0.525362</td>\n",
       "      <td>-0.481239</td>\n",
       "      <td>-0.299919</td>\n",
       "    </tr>\n",
       "    <tr>\n",
       "      <th>3</th>\n",
       "      <td>0.015004</td>\n",
       "      <td>-0.475929</td>\n",
       "      <td>-0.506329</td>\n",
       "      <td>-0.485906</td>\n",
       "      <td>-0.535018</td>\n",
       "      <td>-0.480620</td>\n",
       "      <td>-0.299919</td>\n",
       "    </tr>\n",
       "    <tr>\n",
       "      <th>4</th>\n",
       "      <td>1.078992</td>\n",
       "      <td>-0.476181</td>\n",
       "      <td>-0.556258</td>\n",
       "      <td>-0.485852</td>\n",
       "      <td>-0.533757</td>\n",
       "      <td>-0.479328</td>\n",
       "      <td>-0.299919</td>\n",
       "    </tr>\n",
       "    <tr>\n",
       "      <th>...</th>\n",
       "      <td>...</td>\n",
       "      <td>...</td>\n",
       "      <td>...</td>\n",
       "      <td>...</td>\n",
       "      <td>...</td>\n",
       "      <td>...</td>\n",
       "      <td>...</td>\n",
       "    </tr>\n",
       "    <tr>\n",
       "      <th>1431</th>\n",
       "      <td>1.664186</td>\n",
       "      <td>-0.401216</td>\n",
       "      <td>-0.534028</td>\n",
       "      <td>-0.190287</td>\n",
       "      <td>-0.358845</td>\n",
       "      <td>-0.274115</td>\n",
       "      <td>-0.217396</td>\n",
       "    </tr>\n",
       "    <tr>\n",
       "      <th>1432</th>\n",
       "      <td>2.302579</td>\n",
       "      <td>-0.420032</td>\n",
       "      <td>-0.541440</td>\n",
       "      <td>-0.158323</td>\n",
       "      <td>-0.334834</td>\n",
       "      <td>-0.309636</td>\n",
       "      <td>-0.299919</td>\n",
       "    </tr>\n",
       "    <tr>\n",
       "      <th>1433</th>\n",
       "      <td>2.142980</td>\n",
       "      <td>-0.416006</td>\n",
       "      <td>-0.540191</td>\n",
       "      <td>-0.203746</td>\n",
       "      <td>-0.340434</td>\n",
       "      <td>-0.316473</td>\n",
       "      <td>-0.016577</td>\n",
       "    </tr>\n",
       "    <tr>\n",
       "      <th>1434</th>\n",
       "      <td>2.089781</td>\n",
       "      <td>-0.405745</td>\n",
       "      <td>-0.538948</td>\n",
       "      <td>-0.190903</td>\n",
       "      <td>-0.330957</td>\n",
       "      <td>-0.316067</td>\n",
       "      <td>-0.299919</td>\n",
       "    </tr>\n",
       "    <tr>\n",
       "      <th>1435</th>\n",
       "      <td>1.876983</td>\n",
       "      <td>-0.420310</td>\n",
       "      <td>-0.537884</td>\n",
       "      <td>-0.206675</td>\n",
       "      <td>-0.323596</td>\n",
       "      <td>-0.247977</td>\n",
       "      <td>-0.299919</td>\n",
       "    </tr>\n",
       "  </tbody>\n",
       "</table>\n",
       "<p>1436 rows × 7 columns</p>\n",
       "</div>"
      ],
      "text/plain": [
       "      AveragePrice      4046      4225      4770  Small Bags  Large Bags  \\\n",
       "0         1.344989 -0.476055 -0.537420 -0.486320   -0.523070   -0.481439   \n",
       "1         1.451388 -0.476535 -0.554838 -0.486147   -0.519785   -0.481353   \n",
       "2        -0.782987 -0.476376 -0.440368 -0.484925   -0.525362   -0.481239   \n",
       "3         0.015004 -0.475929 -0.506329 -0.485906   -0.535018   -0.480620   \n",
       "4         1.078992 -0.476181 -0.556258 -0.485852   -0.533757   -0.479328   \n",
       "...            ...       ...       ...       ...         ...         ...   \n",
       "1431      1.664186 -0.401216 -0.534028 -0.190287   -0.358845   -0.274115   \n",
       "1432      2.302579 -0.420032 -0.541440 -0.158323   -0.334834   -0.309636   \n",
       "1433      2.142980 -0.416006 -0.540191 -0.203746   -0.340434   -0.316473   \n",
       "1434      2.089781 -0.405745 -0.538948 -0.190903   -0.330957   -0.316067   \n",
       "1435      1.876983 -0.420310 -0.537884 -0.206675   -0.323596   -0.247977   \n",
       "\n",
       "      XLarge Bags  \n",
       "0       -0.299919  \n",
       "1       -0.299919  \n",
       "2       -0.299919  \n",
       "3       -0.299919  \n",
       "4       -0.299919  \n",
       "...           ...  \n",
       "1431    -0.217396  \n",
       "1432    -0.299919  \n",
       "1433    -0.016577  \n",
       "1434    -0.299919  \n",
       "1435    -0.299919  \n",
       "\n",
       "[1436 rows x 7 columns]"
      ]
     },
     "execution_count": 138,
     "metadata": {},
     "output_type": "execute_result"
    }
   ],
   "source": [
    "from sklearn.preprocessing import StandardScaler\n",
    "scaler = StandardScaler().fit(df_new)\n",
    "df_scaler = scaler.transform(df_new)\n",
    "df_new_scaled= pd.DataFrame(df_scaler)\n",
    "df_new_scaled.columns= ['AveragePrice','4046', '4225', '4770', 'Small Bags', 'Large Bags',\n",
    "       'XLarge Bags']\n",
    "df_new_scaled"
   ]
  },
  {
   "cell_type": "code",
   "execution_count": 130,
   "metadata": {},
   "outputs": [],
   "source": [
    "lr=LinearRegression()"
   ]
  },
  {
   "cell_type": "code",
   "execution_count": 139,
   "metadata": {},
   "outputs": [],
   "source": [
    "considered_cols1 = ['4046', '4225', '4770', 'Small Bags', 'Large Bags',\n",
    "       'XLarge Bags']\n",
    "x = df_new_scaled[considered_cols]"
   ]
  },
  {
   "cell_type": "code",
   "execution_count": 140,
   "metadata": {},
   "outputs": [
    {
     "data": {
      "text/html": [
       "<div>\n",
       "<style scoped>\n",
       "    .dataframe tbody tr th:only-of-type {\n",
       "        vertical-align: middle;\n",
       "    }\n",
       "\n",
       "    .dataframe tbody tr th {\n",
       "        vertical-align: top;\n",
       "    }\n",
       "\n",
       "    .dataframe thead th {\n",
       "        text-align: right;\n",
       "    }\n",
       "</style>\n",
       "<table border=\"1\" class=\"dataframe\">\n",
       "  <thead>\n",
       "    <tr style=\"text-align: right;\">\n",
       "      <th></th>\n",
       "      <th>4046</th>\n",
       "      <th>4225</th>\n",
       "      <th>4770</th>\n",
       "      <th>Small Bags</th>\n",
       "      <th>Large Bags</th>\n",
       "      <th>XLarge Bags</th>\n",
       "    </tr>\n",
       "  </thead>\n",
       "  <tbody>\n",
       "    <tr>\n",
       "      <th>0</th>\n",
       "      <td>-0.476055</td>\n",
       "      <td>-0.537420</td>\n",
       "      <td>-0.486320</td>\n",
       "      <td>-0.523070</td>\n",
       "      <td>-0.481439</td>\n",
       "      <td>-0.299919</td>\n",
       "    </tr>\n",
       "    <tr>\n",
       "      <th>1</th>\n",
       "      <td>-0.476535</td>\n",
       "      <td>-0.554838</td>\n",
       "      <td>-0.486147</td>\n",
       "      <td>-0.519785</td>\n",
       "      <td>-0.481353</td>\n",
       "      <td>-0.299919</td>\n",
       "    </tr>\n",
       "    <tr>\n",
       "      <th>2</th>\n",
       "      <td>-0.476376</td>\n",
       "      <td>-0.440368</td>\n",
       "      <td>-0.484925</td>\n",
       "      <td>-0.525362</td>\n",
       "      <td>-0.481239</td>\n",
       "      <td>-0.299919</td>\n",
       "    </tr>\n",
       "    <tr>\n",
       "      <th>3</th>\n",
       "      <td>-0.475929</td>\n",
       "      <td>-0.506329</td>\n",
       "      <td>-0.485906</td>\n",
       "      <td>-0.535018</td>\n",
       "      <td>-0.480620</td>\n",
       "      <td>-0.299919</td>\n",
       "    </tr>\n",
       "    <tr>\n",
       "      <th>4</th>\n",
       "      <td>-0.476181</td>\n",
       "      <td>-0.556258</td>\n",
       "      <td>-0.485852</td>\n",
       "      <td>-0.533757</td>\n",
       "      <td>-0.479328</td>\n",
       "      <td>-0.299919</td>\n",
       "    </tr>\n",
       "    <tr>\n",
       "      <th>...</th>\n",
       "      <td>...</td>\n",
       "      <td>...</td>\n",
       "      <td>...</td>\n",
       "      <td>...</td>\n",
       "      <td>...</td>\n",
       "      <td>...</td>\n",
       "    </tr>\n",
       "    <tr>\n",
       "      <th>1431</th>\n",
       "      <td>-0.401216</td>\n",
       "      <td>-0.534028</td>\n",
       "      <td>-0.190287</td>\n",
       "      <td>-0.358845</td>\n",
       "      <td>-0.274115</td>\n",
       "      <td>-0.217396</td>\n",
       "    </tr>\n",
       "    <tr>\n",
       "      <th>1432</th>\n",
       "      <td>-0.420032</td>\n",
       "      <td>-0.541440</td>\n",
       "      <td>-0.158323</td>\n",
       "      <td>-0.334834</td>\n",
       "      <td>-0.309636</td>\n",
       "      <td>-0.299919</td>\n",
       "    </tr>\n",
       "    <tr>\n",
       "      <th>1433</th>\n",
       "      <td>-0.416006</td>\n",
       "      <td>-0.540191</td>\n",
       "      <td>-0.203746</td>\n",
       "      <td>-0.340434</td>\n",
       "      <td>-0.316473</td>\n",
       "      <td>-0.016577</td>\n",
       "    </tr>\n",
       "    <tr>\n",
       "      <th>1434</th>\n",
       "      <td>-0.405745</td>\n",
       "      <td>-0.538948</td>\n",
       "      <td>-0.190903</td>\n",
       "      <td>-0.330957</td>\n",
       "      <td>-0.316067</td>\n",
       "      <td>-0.299919</td>\n",
       "    </tr>\n",
       "    <tr>\n",
       "      <th>1435</th>\n",
       "      <td>-0.420310</td>\n",
       "      <td>-0.537884</td>\n",
       "      <td>-0.206675</td>\n",
       "      <td>-0.323596</td>\n",
       "      <td>-0.247977</td>\n",
       "      <td>-0.299919</td>\n",
       "    </tr>\n",
       "  </tbody>\n",
       "</table>\n",
       "<p>1436 rows × 6 columns</p>\n",
       "</div>"
      ],
      "text/plain": [
       "          4046      4225      4770  Small Bags  Large Bags  XLarge Bags\n",
       "0    -0.476055 -0.537420 -0.486320   -0.523070   -0.481439    -0.299919\n",
       "1    -0.476535 -0.554838 -0.486147   -0.519785   -0.481353    -0.299919\n",
       "2    -0.476376 -0.440368 -0.484925   -0.525362   -0.481239    -0.299919\n",
       "3    -0.475929 -0.506329 -0.485906   -0.535018   -0.480620    -0.299919\n",
       "4    -0.476181 -0.556258 -0.485852   -0.533757   -0.479328    -0.299919\n",
       "...        ...       ...       ...         ...         ...          ...\n",
       "1431 -0.401216 -0.534028 -0.190287   -0.358845   -0.274115    -0.217396\n",
       "1432 -0.420032 -0.541440 -0.158323   -0.334834   -0.309636    -0.299919\n",
       "1433 -0.416006 -0.540191 -0.203746   -0.340434   -0.316473    -0.016577\n",
       "1434 -0.405745 -0.538948 -0.190903   -0.330957   -0.316067    -0.299919\n",
       "1435 -0.420310 -0.537884 -0.206675   -0.323596   -0.247977    -0.299919\n",
       "\n",
       "[1436 rows x 6 columns]"
      ]
     },
     "execution_count": 140,
     "metadata": {},
     "output_type": "execute_result"
    }
   ],
   "source": [
    "x"
   ]
  },
  {
   "cell_type": "code",
   "execution_count": 141,
   "metadata": {},
   "outputs": [],
   "source": [
    "y =df_new_scaled.AveragePrice"
   ]
  },
  {
   "cell_type": "code",
   "execution_count": 142,
   "metadata": {},
   "outputs": [
    {
     "data": {
      "text/plain": [
       "0       1.344989\n",
       "1       1.451388\n",
       "2      -0.782987\n",
       "3       0.015004\n",
       "4       1.078992\n",
       "          ...   \n",
       "1431    1.664186\n",
       "1432    2.302579\n",
       "1433    2.142980\n",
       "1434    2.089781\n",
       "1435    1.876983\n",
       "Name: AveragePrice, Length: 1436, dtype: float64"
      ]
     },
     "execution_count": 142,
     "metadata": {},
     "output_type": "execute_result"
    }
   ],
   "source": [
    "y"
   ]
  },
  {
   "cell_type": "code",
   "execution_count": 143,
   "metadata": {},
   "outputs": [
    {
     "name": "stdout",
     "output_type": "stream",
     "text": [
      "At Random State 193 The Model Performs Very Well\n",
      "At Random State: 193\n",
      "Training r2_score is 19.99560194804606\n",
      "Testing r2 score is 19.997728674319994\n"
     ]
    }
   ],
   "source": [
    "max_scr=0\n",
    "for i in range(0,1436):\n",
    "    x_train,x_test,y_train,y_test=train_test_split(x,y,test_size=.20,random_state=i)\n",
    "    lr.fit(x_train,y_train)\n",
    "    pred_train=lr.predict(x_train)\n",
    "    pred_test=lr.predict(x_test)\n",
    "    if round (r2_score(y_train,pred_train)*100,2)==round(r2_score(y_test,pred_test)*100,2):\n",
    "        print(\"At Random State\", i,\"The Model Performs Very Well\")\n",
    "        print(\"At Random State:\", i)\n",
    "        print(\"Training r2_score is\", r2_score(y_train,pred_train)*100)\n",
    "        print(\"Testing r2 score is\", r2_score(y_test,pred_test)*100)"
   ]
  },
  {
   "cell_type": "markdown",
   "metadata": {},
   "source": [
    "Hence we use the Random State 193 "
   ]
  },
  {
   "cell_type": "code",
   "execution_count": 144,
   "metadata": {},
   "outputs": [],
   "source": [
    "def split(x,y):\n",
    "    return train_test_split(x, y, test_size=0.20, random_state=193)"
   ]
  },
  {
   "cell_type": "code",
   "execution_count": 146,
   "metadata": {},
   "outputs": [
    {
     "name": "stdout",
     "output_type": "stream",
     "text": [
      "Train cases as below\n",
      "X_train shape:  (1148, 6)\n",
      "y_train shape:  (1148,)\n",
      "\n",
      "Test cases as below\n",
      "X_test shape:  (288, 6)\n",
      "y_test shape:  (288,)\n"
     ]
    }
   ],
   "source": [
    "X_train, X_test, y_train, y_test=split(x,y)\n",
    "print('Train cases as below')\n",
    "print('X_train shape: ',x_train.shape)\n",
    "print('y_train shape: ',y_train.shape)\n",
    "print('\\nTest cases as below')\n",
    "print('X_test shape: ',x_test.shape)\n",
    "print('y_test shape: ',y_test.shape)_"
   ]
  },
  {
   "cell_type": "code",
   "execution_count": 148,
   "metadata": {},
   "outputs": [],
   "source": [
    "lr.fit=(x_train,y_train)\n"
   ]
  },
  {
   "cell_type": "code",
   "execution_count": 150,
   "metadata": {},
   "outputs": [
    {
     "data": {
      "text/plain": [
       "array([-0.56989936,  0.18499256,  0.12471358,  0.15894397, -0.14523993,\n",
       "       -0.14530612])"
      ]
     },
     "execution_count": 150,
     "metadata": {},
     "output_type": "execute_result"
    }
   ],
   "source": [
    "lr.coef_"
   ]
  },
  {
   "cell_type": "code",
   "execution_count": 151,
   "metadata": {},
   "outputs": [
    {
     "data": {
      "text/plain": [
       "-0.006926419298676212"
      ]
     },
     "execution_count": 151,
     "metadata": {},
     "output_type": "execute_result"
    }
   ],
   "source": [
    "lr.intercept_"
   ]
  },
  {
   "cell_type": "code",
   "execution_count": 152,
   "metadata": {},
   "outputs": [
    {
     "data": {
      "text/plain": [
       "-0.2143839068299047"
      ]
     },
     "execution_count": 152,
     "metadata": {},
     "output_type": "execute_result"
    }
   ],
   "source": [
    "lr.score(x_train,y_train)"
   ]
  },
  {
   "cell_type": "code",
   "execution_count": 153,
   "metadata": {},
   "outputs": [
    {
     "data": {
      "text/plain": [
       "array([ 3.88581134e-02, -1.64212253e-01,  1.92774744e-01,  3.21959881e-01,\n",
       "       -1.05746949e+00,  5.72334885e-02, -1.24021452e+00,  5.45035017e-01,\n",
       "       -1.22928030e+00, -1.37554042e-02, -1.55304197e-03,  8.36451266e-02,\n",
       "        8.01506336e-02, -1.07297848e-01, -2.22750797e-02, -2.77512569e-01,\n",
       "        1.66470433e-01, -1.79329082e-01,  4.28913505e-01,  1.45360488e-02,\n",
       "       -3.54716488e-01,  4.28270943e-01,  9.86844589e-02, -5.78622472e-01,\n",
       "        1.04560328e+00, -1.92408619e-01,  9.03371956e-02,  2.09425085e-02,\n",
       "        4.81703728e-01,  1.38364880e-01, -8.80547806e-02,  3.78613782e-01,\n",
       "        7.44131706e-01, -1.39078671e+00,  6.44323466e-02,  1.95881007e-01,\n",
       "        1.27079850e-01,  9.63481651e-02, -4.00424795e-01,  9.82940678e-03,\n",
       "       -3.55811316e-01,  2.69398415e-01,  9.57361496e-02,  1.01213366e-01,\n",
       "        1.33631809e-01,  1.19466328e-01,  1.23616003e-01,  3.39076063e-01,\n",
       "        1.11312868e-01,  1.07724209e-01,  1.37362308e-01,  2.57117333e-01,\n",
       "       -9.67740275e-01,  4.08722261e-02, -3.47479519e-01,  2.73050890e-01,\n",
       "        5.84034692e-02, -2.80450679e-02,  2.54507817e-01, -2.16232162e-02,\n",
       "       -6.15821818e-01, -1.36802179e-01,  5.32602012e-01, -1.64710777e+00,\n",
       "       -3.41163606e-02, -4.77580178e-02,  1.81871802e-01,  3.36124122e-01,\n",
       "        3.66785328e-01,  1.85293026e-01,  2.43220581e-01,  8.44318409e-02,\n",
       "        1.02889308e-01, -2.67007583e-01,  1.33965813e-01, -3.28060592e-01,\n",
       "        3.57220966e-02,  1.15917056e-01,  8.75389310e-02,  2.67461921e-01,\n",
       "       -5.70321542e-01, -1.06398063e-01, -1.37303121e-01,  2.02004403e-01,\n",
       "        1.57565564e-01, -7.69536313e-03,  3.99737072e-01,  1.42256623e-01,\n",
       "        1.96045005e-01,  3.85166248e-01,  1.28888000e-01,  8.46230325e-02,\n",
       "        1.11428710e+00, -2.09908373e-01, -2.86063102e-02,  7.09589154e-01,\n",
       "        1.32578154e-01,  1.06843252e-01,  1.09749858e-02,  3.68568556e-02,\n",
       "        1.07894194e-01,  3.29337996e-01,  7.81762490e-02, -1.89644208e-01,\n",
       "       -1.13307897e+00,  1.16574825e-01,  2.41778411e-02, -1.85170450e+00,\n",
       "        7.06766444e-02,  7.09687970e-02,  3.31438800e-02,  3.99585306e-01,\n",
       "       -1.60204953e-01,  8.59723112e-02,  2.45336740e-01,  9.85438877e-02,\n",
       "        3.95363853e-01,  1.47645011e-01, -6.42198009e-02, -2.24141030e-01,\n",
       "       -1.64536980e+00, -1.08727269e+00,  4.38836779e-01, -8.38946749e-01,\n",
       "       -1.91724298e-01, -1.08405858e-01,  2.28562279e-01, -3.29696967e-03,\n",
       "        4.03316513e-01,  3.02366470e-01,  1.29241232e-01,  2.20779489e-01,\n",
       "        1.75262322e-01,  1.22174899e-01,  1.00728455e+00, -2.06021975e-01,\n",
       "        1.38390456e-01,  4.00098533e-01,  1.11902241e-01,  2.47414281e-02,\n",
       "        2.01678535e-01,  2.11798945e-01,  3.26333814e-01, -3.87511986e-01,\n",
       "       -1.06389978e+00, -1.68014954e-01, -3.96279017e-01,  1.35578504e-01,\n",
       "       -1.41936159e+00,  2.82068468e-01,  5.50476675e-02,  3.27130117e-02,\n",
       "        1.03901767e-01,  8.21180680e-03, -8.91504064e-02,  1.12728561e-01,\n",
       "        1.98365140e-01,  1.30285424e-01,  1.43326686e-01,  2.16996919e-02,\n",
       "       -2.75270830e-01, -1.31280827e-01, -1.47647695e-01,  1.60471015e-01,\n",
       "        2.18452989e-01,  3.88829408e-01, -4.45681854e-01, -2.27126530e-01,\n",
       "       -7.97217293e-01,  2.66539851e-01,  2.09033555e-01, -3.78179151e-01,\n",
       "       -1.71985094e+00, -1.81462348e-01,  5.43094047e-01, -6.81914378e-01,\n",
       "        9.84849489e-02,  4.53133617e-01,  1.33702990e-01, -9.15166421e-02,\n",
       "       -6.16062217e-02, -2.01421890e-02,  4.02736643e-01, -2.38694814e-01,\n",
       "        9.81837072e-02,  8.08288497e-02,  1.92440393e-01,  1.78046352e-02,\n",
       "        1.04377043e-01,  1.16227438e-01, -5.47936490e-01,  3.63089581e-02,\n",
       "       -1.54702627e-01,  1.31055595e-01,  7.00164383e-01,  7.67569116e-02,\n",
       "       -3.34242720e-01,  1.58301888e-01,  3.33206280e-01, -2.34845957e+00,\n",
       "        4.07734939e-01,  1.37026389e-01,  5.92182311e-01, -1.42729835e+00,\n",
       "        7.37639436e-03,  9.71092397e-02, -5.35413582e-01, -1.09007539e+00,\n",
       "        1.76648881e-01,  1.14318462e-01,  1.27255469e-01, -1.48806025e-01,\n",
       "        6.65457162e-02,  1.67064936e-01,  1.55093651e-01, -2.26647047e+00,\n",
       "       -5.20401183e-01,  1.51686941e-01, -4.46829808e-01, -3.83656212e-01,\n",
       "       -1.94165606e-01,  2.60779645e-01,  3.35150748e-01,  1.61786299e-01,\n",
       "       -1.63053586e-01,  3.33765304e-01,  1.57945913e-01,  8.74263126e-02,\n",
       "       -1.88631932e+00,  5.79749267e-02,  4.16265451e-02,  2.16430612e-01,\n",
       "        2.02832492e-01,  7.34653588e-02,  4.61045235e-01,  3.30554484e-01,\n",
       "        9.62915527e-02, -3.32459480e-01,  1.43621388e-01,  1.04880736e-01,\n",
       "        4.53919211e-01,  3.73256688e-01, -4.31018092e-01,  1.12693872e-01,\n",
       "        8.61578877e-02,  1.14342918e-01,  4.36588308e-01, -1.09471487e-01,\n",
       "        1.12176769e-01,  3.01146427e-01,  8.98621800e-02,  8.34380335e-02,\n",
       "        8.02139214e-02,  1.16187199e-01, -9.42326179e-02,  8.48795474e-02,\n",
       "        5.06539589e-02,  1.61656371e-01, -3.97080919e-02,  3.47550598e-01,\n",
       "       -1.30333458e-01, -7.62510265e-02,  4.52172284e-01, -1.31280901e+00,\n",
       "        1.12173699e-01,  1.21314118e-01, -3.96915548e-01, -1.43685110e+00,\n",
       "        4.92243348e-02,  3.27770145e-01,  1.33079903e-01,  1.58083907e-01,\n",
       "       -1.31114292e+00,  4.80071584e-01,  5.30972749e-02, -1.35890246e+00,\n",
       "       -2.61491751e-01, -3.83743747e-02, -3.28708130e-02, -1.95840052e+00,\n",
       "       -1.02213790e-01, -6.12683600e-01,  5.01417330e-01,  2.87930888e-01,\n",
       "        6.21602511e-02, -1.40116377e-01,  1.99753884e-01, -2.71202844e-01])"
      ]
     },
     "execution_count": 153,
     "metadata": {},
     "output_type": "execute_result"
    }
   ],
   "source": [
    "pred=lr.predict(x_test)\n",
    "pred"
   ]
  },
  {
   "cell_type": "code",
   "execution_count": 159,
   "metadata": {},
   "outputs": [
    {
     "name": "stdout",
     "output_type": "stream",
     "text": [
      "Error:\n",
      "Mean Absolute error: 0.865157131432437\n",
      "Mean Squared error: 1.3111924417156415\n",
      "Root Mean Squared error: 1.1450731163186225\n"
     ]
    }
   ],
   "source": [
    "print(\"Error:\")\n",
    "print(\"Mean Absolute error:\",mean_absolute_error(y_test, pred))\n",
    "print(\"Mean Squared error:\",mean_squared_error(y_test, pred))\n",
    "print(\"Root Mean Squared error:\",np.sqrt(mean_squared_error(y_test, pred)))\n",
    "\n"
   ]
  },
  {
   "cell_type": "code",
   "execution_count": 160,
   "metadata": {},
   "outputs": [
    {
     "name": "stdout",
     "output_type": "stream",
     "text": [
      "R2 Score: -0.3382306099084691\n"
     ]
    }
   ],
   "source": [
    "# co-efficient of determination\n",
    "from sklearn.metrics import r2_score\n",
    "print(\"R2 Score:\",r2_score(y_test, pred))\n"
   ]
  },
  {
   "cell_type": "code",
   "execution_count": 163,
   "metadata": {},
   "outputs": [],
   "source": [
    "considered_cols1.insert(0,'Intercept')\n",
    "coef = lr.coef_.tolist()\n",
    "coef.insert(0, lr.intercept_)"
   ]
  },
  {
   "cell_type": "code",
   "execution_count": 164,
   "metadata": {
    "scrolled": true
   },
   "outputs": [
    {
     "name": "stdout",
     "output_type": "stream",
     "text": [
      "Intercept -0.006926419298676212\n",
      "Intercept -0.5698993612963633\n",
      "4046 0.1849925568345188\n",
      "4225 0.12471358329209145\n",
      "4770 0.15894396946099384\n",
      "Small Bags -0.14523992782116119\n",
      "Large Bags -0.1453061183712806\n"
     ]
    }
   ],
   "source": [
    "eq1 = zip(considered_cols1, coef)\n",
    "\n",
    "for c1,c2 in eq1:\n",
    "    print(c1,c2)"
   ]
  },
  {
   "cell_type": "markdown",
   "metadata": {},
   "source": [
    "Y = -0.002 - (4046 * -0.569) + (4225 * 0.184) - (4770 * 0.124) + (Small Bags * 0.158) - (Large Bags * -0.014530) + (XLargeBags * -0.145\n",
    "From the above equation 4046, XLarge and LargeBags are being negative. ie. If the value of 4046, XLarge and LargeBags decreases, the Y value will increase and vise-versa"
   ]
  },
  {
   "cell_type": "markdown",
   "metadata": {},
   "source": [
    "# Regularization\n",
    "\n",
    "Lasso"
   ]
  },
  {
   "cell_type": "code",
   "execution_count": 167,
   "metadata": {},
   "outputs": [],
   "source": [
    "x_train_b,x_test_b,y_train_b,y_test_b=train_test_split(x,y,test_size=.20,random_state=193)"
   ]
  },
  {
   "cell_type": "code",
   "execution_count": 168,
   "metadata": {},
   "outputs": [
    {
     "name": "stdout",
     "output_type": "stream",
     "text": [
      "{'alpha': 0.1, 'random_state': 0}\n"
     ]
    }
   ],
   "source": [
    "from sklearn.linear_model import Lasso\n",
    "\n",
    "parameters={\"alpha\":[.0001,.001,.01,.1,1,10], \"random_state\":list(range(0,10))}\n",
    "ls=Lasso()\n",
    "clf=GridSearchCV(ls,parameters)\n",
    "clf.fit(x_train,y_train)\n",
    "\n",
    "print(clf.best_params_)"
   ]
  },
  {
   "cell_type": "code",
   "execution_count": 169,
   "metadata": {},
   "outputs": [
    {
     "name": "stdout",
     "output_type": "stream",
     "text": [
      "At cv 2\n",
      "Cross Validation Score is 1.7181778534003378\n",
      "R2_score is 19.984477102550493\n",
      "\n",
      "\n",
      "At cv 3\n",
      "Cross Validation Score is -4.94251791858061\n",
      "R2_score is 19.984477102550493\n",
      "\n",
      "\n",
      "At cv 4\n",
      "Cross Validation Score is -5.345606170709686\n",
      "R2_score is 19.984477102550493\n",
      "\n",
      "\n",
      "At cv 5\n",
      "Cross Validation Score is -14.442134053618558\n",
      "R2_score is 19.984477102550493\n",
      "\n",
      "\n",
      "At cv 6\n",
      "Cross Validation Score is -41.493480856336824\n",
      "R2_score is 19.984477102550493\n",
      "\n",
      "\n",
      "At cv 7\n",
      "Cross Validation Score is -17.502412061425495\n",
      "R2_score is 19.984477102550493\n",
      "\n",
      "\n",
      "At cv 8\n",
      "Cross Validation Score is -10.786643605672959\n",
      "R2_score is 19.984477102550493\n",
      "\n",
      "\n",
      "At cv 9\n",
      "Cross Validation Score is -3.430737333850585\n",
      "R2_score is 19.984477102550493\n",
      "\n",
      "\n"
     ]
    }
   ],
   "source": [
    "ls=Lasso(alpha=0.001,random_state=0)\n",
    "ls.fit(x_train_b,y_train_b)\n",
    "ls.score(x_train_b,y_train_b)\n",
    "pred_ls=ls.predict(x_test_b)\n",
    "\n",
    "lss=r2_score(y_test_b,pred_ls)\n",
    "for j in range(2,10):\n",
    "    lsscore=cross_val_score(ls,x,y,cv=j)\n",
    "    lsc=lsscore.mean()\n",
    "    print(\"At cv\",j)\n",
    "    print(\"Cross Validation Score is\",lsc*100)\n",
    "    print(\"R2_score is\", lss*100)\n",
    "    print(\"\\n\")"
   ]
  },
  {
   "cell_type": "code",
   "execution_count": 171,
   "metadata": {},
   "outputs": [
    {
     "data": {
      "image/png": "[encoded data removed]",
      "text/plain": [
       "<Figure size 576x432 with 1 Axes>"
      ]
     },
     "metadata": {},
     "output_type": "display_data"
    }
   ],
   "source": [
    "plt.figure(figsize=(8,6))\n",
    "plt.scatter(x=y_test_b,y=pred_ls)\n",
    "plt.plot(y_test_b,y_test_b,color=\"b\")\n",
    "plt.xlabel(\"Actual Average Price\")\n",
    "plt.ylabel(\"PredictedAverage Price\")\n",
    "plt.title(\"Lasso Regression\")\n",
    "plt.show()"
   ]
  },
  {
   "cell_type": "code",
   "execution_count": 172,
   "metadata": {},
   "outputs": [
    {
     "data": {
      "text/plain": [
       "array([ 1.18539097, -1.47457939,  0.33420045, -0.57018947, -1.90017464,\n",
       "        0.6533969 ,  0.38739986,  0.38739986, -2.91096338,  0.7065963 ,\n",
       "        1.77058444, -0.25099302, -0.0913948 , -1.5809782 ,  0.17460223,\n",
       "       -0.14459421,  1.87698326, -0.78298709, -1.36818057,  0.01500401,\n",
       "       -1.74057642, -0.94258532,  0.12140283,  0.75979571, -2.69816575,\n",
       "        1.07899215,  0.12140283, -0.0913948 ,  1.23859037, -0.78298709,\n",
       "        0.01500401, -0.25099302, -0.46379065, -2.96416278,  0.28100105,\n",
       "       -0.78298709, -0.51699006, -0.51699006,  0.60019749, -1.90017464,\n",
       "       -0.8361865 , -2.43216871,  1.71738504,  1.55778682,  0.01500401,\n",
       "        0.7065963 , -0.51699006,  0.54699808, -0.19779362,  0.38739986,\n",
       "       -0.0913948 , -0.57018947, -0.67658828, -1.5809782 , -0.78298709,\n",
       "       -0.0381954 ,  0.33420045, -1.04898413, -0.46379065, -1.52777879,\n",
       "        0.81299512, -1.47457939, -0.57018947, -0.67658828, -1.42137998,\n",
       "        1.77058444, -0.51699006,  0.54699808, -1.26178176, -1.63417761,\n",
       "       -0.0381954 ,  0.17460223, -0.46379065,  1.34498919,  1.55778682,\n",
       "        0.06820342, -0.0913948 ,  0.6533969 ,  0.33420045, -0.30419243,\n",
       "        0.44059927,  0.06820342, -0.46379065, -1.36818057, -0.19779362,\n",
       "        0.86619452, -0.78298709,  1.02579275,  0.81299512, -0.46379065,\n",
       "        1.39818859,  0.6533969 , -0.25099302,  0.81299512, -0.30419243,\n",
       "        1.07899215,  0.86619452, -2.00657346, -0.78298709,  1.13219156,\n",
       "        0.44059927, -1.79377583,  0.75979571, -0.72978769,  0.17460223,\n",
       "        1.02579275,  0.7065963 ,  0.01500401,  0.22780164, -0.62338887,\n",
       "        1.55778682,  0.01500401, -0.25099302,  0.28100105,  0.38739986,\n",
       "       -0.78298709,  0.97259334, -0.8361865 ,  0.86619452,  0.6533969 ,\n",
       "        1.13219156, -0.0381954 ,  2.24937911,  2.9409714 , -0.25099302,\n",
       "       -0.19779362, -0.78298709, -0.88938591,  0.38739986, -0.14459421,\n",
       "        1.451388  , -1.31498117,  0.91939393,  0.01500401, -0.46379065,\n",
       "       -0.0913948 ,  0.17460223,  0.44059927, -0.46379065,  0.01500401,\n",
       "        0.38739986, -0.25099302,  1.98338207, -0.8361865 ,  2.62177496,\n",
       "        0.75979571,  0.7065963 ,  0.6533969 ,  2.35577792, -0.72978769,\n",
       "       -0.72978769, -0.0381954 , -0.78298709, -0.57018947, -0.25099302,\n",
       "        0.38739986,  0.12140283,  1.61098622, -0.35739184, -0.72978769,\n",
       "       -0.41059125,  1.39818859,  0.49379867,  1.34498919,  0.49379867,\n",
       "        0.06820342, -0.0913948 ,  2.67497436,  1.23859037,  0.44059927,\n",
       "       -1.79377583, -0.0381954 , -0.41059125, -0.67658828, -0.14459421,\n",
       "        0.6533969 , -0.72978769, -2.27257049,  0.91939393,  0.17460223,\n",
       "        0.22780164,  0.49379867,  0.81299512,  1.50458741, -0.0913948 ,\n",
       "       -0.72978769,  0.97259334, -0.57018947, -2.16617168, -0.0381954 ,\n",
       "        0.49379867,  0.86619452,  0.60019749,  0.01500401,  0.60019749,\n",
       "        0.17460223, -0.46379065,  1.71738504,  0.44059927,  0.7065963 ,\n",
       "       -1.20858235, -0.30419243,  0.60019749,  0.17460223, -0.19779362,\n",
       "        0.33420045,  0.06820342, -2.64496634, -0.78298709,  1.50458741,\n",
       "        0.17460223,  0.12140283,  0.01500401,  0.91939393,  1.29178978,\n",
       "        0.91939393,  1.29178978,  0.49379867, -0.41059125,  1.50458741,\n",
       "        1.29178978,  0.22780164, -0.35739184, -0.30419243, -0.19779362,\n",
       "        0.01500401,  0.81299512, -0.46379065, -0.62338887, -1.36818057,\n",
       "       -0.14459421, -0.46379065,  0.22780164,  0.17460223, -0.46379065,\n",
       "       -1.95337405, -0.46379065, -0.25099302, -0.25099302,  1.02579275,\n",
       "        0.60019749, -0.46379065, -0.14459421, -1.36818057, -0.94258532,\n",
       "        0.28100105,  0.6533969 , -0.35739184, -0.19779362,  0.17460223,\n",
       "       -1.68737701,  0.49379867, -0.67658828, -2.00657346, -0.88938591,\n",
       "       -1.31498117, -0.57018947, -0.0913948 , -1.15538294, -1.74057642,\n",
       "        0.28100105, -0.41059125,  0.06820342,  2.08978089, -0.0381954 ,\n",
       "        0.7065963 , -1.63417761, -0.30419243, -0.62338887, -0.78298709,\n",
       "        0.17460223,  1.18539097,  0.01500401,  0.22780164, -0.0913948 ,\n",
       "       -0.14459421,  0.75979571,  0.17460223, -1.10218354,  0.06820342,\n",
       "       -0.46379065,  0.33420045, -2.3257699 ,  0.60019749,  0.38739986,\n",
       "       -1.04898413, -0.25099302,  0.12140283])"
      ]
     },
     "execution_count": 172,
     "metadata": {},
     "output_type": "execute_result"
    }
   ],
   "source": [
    "a=np.array(y_test)\n",
    "a"
   ]
  },
  {
   "cell_type": "code",
   "execution_count": 173,
   "metadata": {},
   "outputs": [
    {
     "data": {
      "text/plain": [
       "array([ 3.74147519e-02, -1.65779300e-01,  1.93413903e-01,  3.42563696e-01,\n",
       "       -1.01130474e+00,  5.75828030e-02, -1.19376914e+00,  6.70070960e-01,\n",
       "       -1.06570234e+00,  3.60608043e-02, -1.88728058e-02,  9.58795764e-02,\n",
       "        1.03443564e-01, -1.08394535e-01, -2.48937550e-02, -2.44309484e-01,\n",
       "        1.60058772e-01, -1.77331728e-01,  4.31002898e-01,  1.36421781e-03,\n",
       "       -2.54582719e-01,  4.36666236e-01,  9.79731812e-02, -8.15001647e-01,\n",
       "        1.07455863e+00, -1.88578151e-01,  8.07581946e-02,  2.93494440e-02,\n",
       "        4.71519134e-01,  1.52017907e-01, -9.10604579e-02,  3.96776870e-01,\n",
       "        4.82172176e-01, -1.47834394e+00,  8.15520872e-02,  1.72567116e-01,\n",
       "        1.33657898e-01,  9.54610780e-02, -3.80823755e-01,  1.88910684e-02,\n",
       "       -3.25240493e-01,  3.16167968e-01,  1.21146245e-01,  9.15566954e-02,\n",
       "        1.35214244e-01,  1.13760750e-01,  1.17313981e-01,  2.86170258e-01,\n",
       "        1.13774085e-01,  1.17652533e-01,  1.40431292e-01,  2.70634035e-01,\n",
       "       -9.30981782e-01,  3.28705682e-02, -3.38913137e-01,  2.89515991e-01,\n",
       "        8.77013194e-02, -7.92367612e-03,  2.84400383e-01, -1.82475570e-02,\n",
       "       -5.90889633e-01, -1.35765788e-01,  5.03688867e-01, -1.57171074e+00,\n",
       "       -3.89344852e-02,  1.06884657e-02,  1.94355983e-01,  3.92276897e-01,\n",
       "        3.89756865e-01,  2.06423250e-01,  2.76034129e-01,  8.84852691e-02,\n",
       "        1.11310712e-01, -2.34681811e-01,  1.35272815e-01, -3.25298236e-01,\n",
       "        1.83347348e-02,  1.07555120e-01,  8.62831986e-02,  2.93925468e-01,\n",
       "       -7.65380269e-01, -5.89300413e-02, -1.14966841e-01,  1.87424624e-01,\n",
       "        1.70346243e-01, -1.19695860e-02,  4.61271031e-01,  1.49305535e-01,\n",
       "        1.76335126e-01,  3.63830501e-01,  1.34989969e-01,  8.82688863e-02,\n",
       "        1.23821818e+00, -1.98808412e-01, -1.74059142e-03,  5.15782432e-01,\n",
       "        1.35123447e-01,  1.11840822e-01,  1.20890483e-02,  3.56672527e-02,\n",
       "        1.12356990e-01,  3.75911355e-01,  8.13186187e-02, -4.10519447e-01,\n",
       "       -1.17087088e+00,  1.19230102e-01,  1.56060856e-02, -1.78511334e+00,\n",
       "        8.29036443e-02,  5.20176242e-02,  8.01237158e-02,  3.97875700e-01,\n",
       "       -1.70050332e-01,  8.40513741e-02,  1.75994458e-01,  1.05875444e-01,\n",
       "        4.51936457e-01,  1.65036132e-01, -1.30217436e-03, -2.22767533e-01,\n",
       "       -1.57172412e+00, -1.11136367e+00,  4.37839433e-01, -7.59759234e-01,\n",
       "       -1.98736413e-01, -1.14939777e-01,  1.94968886e-01, -4.00576074e-03,\n",
       "        3.84551953e-01,  3.25407106e-01,  1.35741983e-01,  1.84552712e-01,\n",
       "        1.72776150e-01,  1.12947293e-01,  1.06918305e+00, -1.70848488e-01,\n",
       "        1.45012875e-01,  4.84768597e-01,  1.13309412e-01,  3.40196625e-02,\n",
       "        1.66341361e-01,  1.75639954e-01,  3.59725981e-01, -3.89450916e-01,\n",
       "       -9.98668808e-01, -1.12635094e-01, -3.82360125e-01,  1.45411556e-01,\n",
       "       -1.37723092e+00,  3.09997492e-01,  3.88137986e-02,  3.75334891e-02,\n",
       "        1.07444083e-01,  6.84499653e-03, -7.10226807e-02,  2.34985818e-01,\n",
       "        1.85523393e-01,  1.17643582e-01,  1.57811684e-01,  6.65405079e-02,\n",
       "       -2.48593938e-01, -1.29758210e-01, -1.53625363e-01,  1.57535031e-01,\n",
       "        2.48146161e-01,  3.48913846e-01, -4.33866222e-01, -2.52819165e-01,\n",
       "       -7.54127432e-01,  2.92804832e-01,  2.11819183e-01, -3.93397809e-01,\n",
       "       -1.64098426e+00, -1.19487612e-01,  5.23776959e-01, -6.61110812e-01,\n",
       "        9.81618955e-02,  5.23277033e-01,  1.41525228e-01, -9.21034227e-02,\n",
       "       -5.41219599e-02, -2.30956182e-02,  4.38895542e-01, -2.07164870e-01,\n",
       "        9.63700668e-02,  8.81409864e-02,  2.13772939e-01,  2.20539579e-02,\n",
       "        1.13546492e-01,  1.27707807e-01, -5.46918202e-01,  6.70602241e-02,\n",
       "       -1.61404329e-01,  1.40322639e-01,  8.41118351e-01,  8.58862987e-02,\n",
       "       -3.11691707e-01,  1.61334275e-01,  3.41139267e-01, -2.24247127e+00,\n",
       "        4.75517245e-01,  1.38217797e-01,  5.30268532e-01, -1.46055422e+00,\n",
       "       -8.51729224e-03,  1.05146960e-01, -5.13623421e-01, -1.16639988e+00,\n",
       "        1.70497112e-01,  1.08943918e-01,  1.33499541e-01, -1.57257834e-01,\n",
       "        5.58462264e-02,  1.59997690e-01,  1.54688423e-01, -2.36821019e+00,\n",
       "       -3.97308899e-01,  1.50639549e-01, -4.52512945e-01, -4.01380298e-01,\n",
       "       -1.82283740e-01,  2.97250434e-01,  3.58527323e-01,  1.60115154e-01,\n",
       "       -1.65702653e-01,  3.25176896e-01,  1.56947075e-01,  7.56996371e-02,\n",
       "       -1.79309944e+00,  9.52276732e-02,  2.43409021e-02,  1.75235305e-01,\n",
       "        2.32754097e-01,  6.39674161e-02,  4.45040489e-01,  3.62511545e-01,\n",
       "        9.58730834e-02, -2.52627307e-01,  1.60908891e-01,  1.09336977e-01,\n",
       "        4.28086858e-01,  3.63722915e-01, -4.60370854e-01,  7.78794420e-02,\n",
       "        9.54832848e-02,  1.16581899e-01,  4.08445405e-01, -3.61863567e-01,\n",
       "        1.16261541e-01,  3.29290167e-01,  8.82352848e-02,  8.73029796e-02,\n",
       "        1.10666888e-01,  1.10641805e-01, -9.34774044e-02,  8.64933149e-02,\n",
       "        4.34230637e-02,  1.60705175e-01, -4.41833279e-02,  3.98197289e-01,\n",
       "       -8.95058542e-02, -5.48063581e-02,  4.44017628e-01, -1.34821395e+00,\n",
       "        1.15555392e-01,  1.14868542e-01, -3.69998757e-01, -1.16172078e+00,\n",
       "        3.40006833e-02,  3.30838373e-01,  1.22199592e-01,  1.61835699e-01,\n",
       "       -1.15001335e+00,  4.61960808e-01,  3.21010500e-02, -1.34165074e+00,\n",
       "       -2.29732650e-01, -4.48843021e-02,  1.25118339e-02, -1.91834098e+00,\n",
       "       -9.28950695e-02, -5.91955851e-01,  4.84689003e-01,  3.20530324e-01,\n",
       "        5.56961656e-02, -1.46749900e-01,  1.86413491e-01, -2.26917690e-01])"
      ]
     },
     "execution_count": 173,
     "metadata": {},
     "output_type": "execute_result"
    }
   ],
   "source": [
    "predicted =np.array(ls.predict(x_test))\n",
    "predicted"
   ]
  },
  {
   "cell_type": "code",
   "execution_count": 174,
   "metadata": {},
   "outputs": [
    {
     "data": {
      "text/html": [
       "<div>\n",
       "<style scoped>\n",
       "    .dataframe tbody tr th:only-of-type {\n",
       "        vertical-align: middle;\n",
       "    }\n",
       "\n",
       "    .dataframe tbody tr th {\n",
       "        vertical-align: top;\n",
       "    }\n",
       "\n",
       "    .dataframe thead th {\n",
       "        text-align: right;\n",
       "    }\n",
       "</style>\n",
       "<table border=\"1\" class=\"dataframe\">\n",
       "  <thead>\n",
       "    <tr style=\"text-align: right;\">\n",
       "      <th></th>\n",
       "      <th>Original</th>\n",
       "      <th>Predicted</th>\n",
       "    </tr>\n",
       "  </thead>\n",
       "  <tbody>\n",
       "    <tr>\n",
       "      <th>0</th>\n",
       "      <td>1.185391</td>\n",
       "      <td>0.037415</td>\n",
       "    </tr>\n",
       "    <tr>\n",
       "      <th>1</th>\n",
       "      <td>-1.474579</td>\n",
       "      <td>-0.165779</td>\n",
       "    </tr>\n",
       "    <tr>\n",
       "      <th>2</th>\n",
       "      <td>0.334200</td>\n",
       "      <td>0.193414</td>\n",
       "    </tr>\n",
       "    <tr>\n",
       "      <th>3</th>\n",
       "      <td>-0.570189</td>\n",
       "      <td>0.342564</td>\n",
       "    </tr>\n",
       "    <tr>\n",
       "      <th>4</th>\n",
       "      <td>-1.900175</td>\n",
       "      <td>-1.011305</td>\n",
       "    </tr>\n",
       "    <tr>\n",
       "      <th>...</th>\n",
       "      <td>...</td>\n",
       "      <td>...</td>\n",
       "    </tr>\n",
       "    <tr>\n",
       "      <th>283</th>\n",
       "      <td>0.600197</td>\n",
       "      <td>0.320530</td>\n",
       "    </tr>\n",
       "    <tr>\n",
       "      <th>284</th>\n",
       "      <td>0.387400</td>\n",
       "      <td>0.055696</td>\n",
       "    </tr>\n",
       "    <tr>\n",
       "      <th>285</th>\n",
       "      <td>-1.048984</td>\n",
       "      <td>-0.146750</td>\n",
       "    </tr>\n",
       "    <tr>\n",
       "      <th>286</th>\n",
       "      <td>-0.250993</td>\n",
       "      <td>0.186413</td>\n",
       "    </tr>\n",
       "    <tr>\n",
       "      <th>287</th>\n",
       "      <td>0.121403</td>\n",
       "      <td>-0.226918</td>\n",
       "    </tr>\n",
       "  </tbody>\n",
       "</table>\n",
       "<p>288 rows × 2 columns</p>\n",
       "</div>"
      ],
      "text/plain": [
       "     Original  Predicted\n",
       "0    1.185391   0.037415\n",
       "1   -1.474579  -0.165779\n",
       "2    0.334200   0.193414\n",
       "3   -0.570189   0.342564\n",
       "4   -1.900175  -1.011305\n",
       "..        ...        ...\n",
       "283  0.600197   0.320530\n",
       "284  0.387400   0.055696\n",
       "285 -1.048984  -0.146750\n",
       "286 -0.250993   0.186413\n",
       "287  0.121403  -0.226918\n",
       "\n",
       "[288 rows x 2 columns]"
      ]
     },
     "execution_count": 174,
     "metadata": {},
     "output_type": "execute_result"
    }
   ],
   "source": [
    "df_com=pd.DataFrame({\"Original\":a,\"Predicted\":predicted}, index=range(len(a)))\n",
    "df_com"
   ]
  },
  {
   "cell_type": "markdown",
   "metadata": {},
   "source": [
    "# Model Saving"
   ]
  },
  {
   "cell_type": "code",
   "execution_count": 179,
   "metadata": {},
   "outputs": [],
   "source": [
    "import pickle\n",
    "filename=\"Project3_avocado.pkl\"\n",
    "pickle.dump(ls,open(filename,\"wb\"))"
   ]
  },
  {
   "cell_type": "code",
   "execution_count": null,
   "metadata": {},
   "outputs": [],
   "source": []
  }
 ],
 "metadata": {
  "kernelspec": {
   "display_name": "Python 3",
   "language": "python",
   "name": "python3"
  },
  "language_info": {
   "codemirror_mode": {
    "name": "ipython",
    "version": 3
   },
   "file_extension": ".py",
   "mimetype": "text/x-python",
   "name": "python",
   "nbconvert_exporter": "python",
   "pygments_lexer": "ipython3",
   "version": "3.8.3"
  }
 },
 "nbformat": 4,
 "nbformat_minor": 4
}
