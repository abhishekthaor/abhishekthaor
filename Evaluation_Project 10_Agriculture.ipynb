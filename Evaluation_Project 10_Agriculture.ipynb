{
 "cells": [
  {
   "cell_type": "markdown",
   "metadata": {},
   "source": [
    "# Agriculture Dataset Analysis"
   ]
  },
  {
   "cell_type": "raw",
   "metadata": {},
   "source": [
    "The characteristics to be taken into account for the analysis are:\n",
    "    \n",
    "1. ID - Unique ID\n",
    "2.Estimated Inscet Count - Insect Count Per Square Meter\n",
    "3.Crop Type- Category of Crop\n",
    "4.Soil Type-Category of Soil\n",
    "5.Pesticide Use Category- Type of Pesticide Used\n",
    "6.Number Doses Week- Number of doses per week\n",
    "7.Number Weeks Used- Number of weeks used\n",
    "8.Number Weeks Quit-Number of weeks quit\n",
    "9.Season- Season category\n",
    "10. Crop Damage- Crop Damage Category\n",
    "\n",
    "Problem Statement-To determine the outcome of the harvest season, i.e. whether the crop would be healthy (alive), damaged by pesticides or damaged by other reasons.\n",
    "\n",
    "Approach- Using Crop Damage as target Variable and build a model for solving the undelined problem"
   ]
  },
  {
   "cell_type": "code",
   "execution_count": 3,
   "metadata": {},
   "outputs": [
    {
     "data": {
      "text/html": [
       "<div>\n",
       "<style scoped>\n",
       "    .dataframe tbody tr th:only-of-type {\n",
       "        vertical-align: middle;\n",
       "    }\n",
       "\n",
       "    .dataframe tbody tr th {\n",
       "        vertical-align: top;\n",
       "    }\n",
       "\n",
       "    .dataframe thead th {\n",
       "        text-align: right;\n",
       "    }\n",
       "</style>\n",
       "<table border=\"1\" class=\"dataframe\">\n",
       "  <thead>\n",
       "    <tr style=\"text-align: right;\">\n",
       "      <th></th>\n",
       "      <th>ID</th>\n",
       "      <th>Estimated_Insects_Count</th>\n",
       "      <th>Crop_Type</th>\n",
       "      <th>Soil_Type</th>\n",
       "      <th>Pesticide_Use_Category</th>\n",
       "      <th>Number_Doses_Week</th>\n",
       "      <th>Number_Weeks_Used</th>\n",
       "      <th>Number_Weeks_Quit</th>\n",
       "      <th>Season</th>\n",
       "      <th>Crop_Damage</th>\n",
       "    </tr>\n",
       "  </thead>\n",
       "  <tbody>\n",
       "    <tr>\n",
       "      <th>0</th>\n",
       "      <td>F00000001</td>\n",
       "      <td>188</td>\n",
       "      <td>1</td>\n",
       "      <td>0</td>\n",
       "      <td>1</td>\n",
       "      <td>0</td>\n",
       "      <td>0.0</td>\n",
       "      <td>0</td>\n",
       "      <td>1</td>\n",
       "      <td>0</td>\n",
       "    </tr>\n",
       "    <tr>\n",
       "      <th>1</th>\n",
       "      <td>F00000003</td>\n",
       "      <td>209</td>\n",
       "      <td>1</td>\n",
       "      <td>0</td>\n",
       "      <td>1</td>\n",
       "      <td>0</td>\n",
       "      <td>0.0</td>\n",
       "      <td>0</td>\n",
       "      <td>2</td>\n",
       "      <td>1</td>\n",
       "    </tr>\n",
       "    <tr>\n",
       "      <th>2</th>\n",
       "      <td>F00000004</td>\n",
       "      <td>257</td>\n",
       "      <td>1</td>\n",
       "      <td>0</td>\n",
       "      <td>1</td>\n",
       "      <td>0</td>\n",
       "      <td>0.0</td>\n",
       "      <td>0</td>\n",
       "      <td>2</td>\n",
       "      <td>1</td>\n",
       "    </tr>\n",
       "    <tr>\n",
       "      <th>3</th>\n",
       "      <td>F00000005</td>\n",
       "      <td>257</td>\n",
       "      <td>1</td>\n",
       "      <td>1</td>\n",
       "      <td>1</td>\n",
       "      <td>0</td>\n",
       "      <td>0.0</td>\n",
       "      <td>0</td>\n",
       "      <td>2</td>\n",
       "      <td>1</td>\n",
       "    </tr>\n",
       "    <tr>\n",
       "      <th>4</th>\n",
       "      <td>F00000006</td>\n",
       "      <td>342</td>\n",
       "      <td>1</td>\n",
       "      <td>0</td>\n",
       "      <td>1</td>\n",
       "      <td>0</td>\n",
       "      <td>0.0</td>\n",
       "      <td>0</td>\n",
       "      <td>2</td>\n",
       "      <td>1</td>\n",
       "    </tr>\n",
       "  </tbody>\n",
       "</table>\n",
       "</div>"
      ],
      "text/plain": [
       "          ID  Estimated_Insects_Count  Crop_Type  Soil_Type  \\\n",
       "0  F00000001                      188          1          0   \n",
       "1  F00000003                      209          1          0   \n",
       "2  F00000004                      257          1          0   \n",
       "3  F00000005                      257          1          1   \n",
       "4  F00000006                      342          1          0   \n",
       "\n",
       "   Pesticide_Use_Category  Number_Doses_Week  Number_Weeks_Used  \\\n",
       "0                       1                  0                0.0   \n",
       "1                       1                  0                0.0   \n",
       "2                       1                  0                0.0   \n",
       "3                       1                  0                0.0   \n",
       "4                       1                  0                0.0   \n",
       "\n",
       "   Number_Weeks_Quit  Season  Crop_Damage  \n",
       "0                  0       1            0  \n",
       "1                  0       2            1  \n",
       "2                  0       2            1  \n",
       "3                  0       2            1  \n",
       "4                  0       2            1  "
      ]
     },
     "execution_count": 3,
     "metadata": {},
     "output_type": "execute_result"
    }
   ],
   "source": [
    "import pandas as pd\n",
    "df=pd.read_csv(\"agriculture_train.csv\")\n",
    "df.head()"
   ]
  },
  {
   "cell_type": "code",
   "execution_count": 4,
   "metadata": {},
   "outputs": [
    {
     "data": {
      "text/plain": [
       "(88858, 10)"
      ]
     },
     "execution_count": 4,
     "metadata": {},
     "output_type": "execute_result"
    }
   ],
   "source": [
    "df.shape"
   ]
  },
  {
   "cell_type": "markdown",
   "metadata": {},
   "source": [
    "# Importing Required Libraries for EDA"
   ]
  },
  {
   "cell_type": "code",
   "execution_count": 5,
   "metadata": {},
   "outputs": [],
   "source": [
    "import seaborn as sb\n",
    "import numpy as np\n",
    "import matplotlib.pyplot as plt\n",
    "import pandas as pd"
   ]
  },
  {
   "cell_type": "code",
   "execution_count": 6,
   "metadata": {},
   "outputs": [
    {
     "data": {
      "text/plain": [
       "Index(['ID', 'Estimated_Insects_Count', 'Crop_Type', 'Soil_Type',\n",
       "       'Pesticide_Use_Category', 'Number_Doses_Week', 'Number_Weeks_Used',\n",
       "       'Number_Weeks_Quit', 'Season', 'Crop_Damage'],\n",
       "      dtype='object')"
      ]
     },
     "execution_count": 6,
     "metadata": {},
     "output_type": "execute_result"
    }
   ],
   "source": [
    "df.columns"
   ]
  },
  {
   "cell_type": "code",
   "execution_count": 7,
   "metadata": {},
   "outputs": [
    {
     "name": "stdout",
     "output_type": "stream",
     "text": [
      "<class 'pandas.core.frame.DataFrame'>\n",
      "RangeIndex: 88858 entries, 0 to 88857\n",
      "Data columns (total 10 columns):\n",
      " #   Column                   Non-Null Count  Dtype  \n",
      "---  ------                   --------------  -----  \n",
      " 0   ID                       88858 non-null  object \n",
      " 1   Estimated_Insects_Count  88858 non-null  int64  \n",
      " 2   Crop_Type                88858 non-null  int64  \n",
      " 3   Soil_Type                88858 non-null  int64  \n",
      " 4   Pesticide_Use_Category   88858 non-null  int64  \n",
      " 5   Number_Doses_Week        88858 non-null  int64  \n",
      " 6   Number_Weeks_Used        79858 non-null  float64\n",
      " 7   Number_Weeks_Quit        88858 non-null  int64  \n",
      " 8   Season                   88858 non-null  int64  \n",
      " 9   Crop_Damage              88858 non-null  int64  \n",
      "dtypes: float64(1), int64(8), object(1)\n",
      "memory usage: 6.4+ MB\n"
     ]
    }
   ],
   "source": [
    "df.info()"
   ]
  },
  {
   "cell_type": "code",
   "execution_count": 8,
   "metadata": {},
   "outputs": [
    {
     "data": {
      "text/plain": [
       "0    74238\n",
       "1    12307\n",
       "2     2313\n",
       "Name: Crop_Damage, dtype: int64"
      ]
     },
     "execution_count": 8,
     "metadata": {},
     "output_type": "execute_result"
    }
   ],
   "source": [
    "df[\"Crop_Damage\"].value_counts()"
   ]
  },
  {
   "cell_type": "markdown",
   "metadata": {},
   "source": [
    "Here 0 represents Crop Alive\n",
    "1 represents Damage due to other causes\n",
    "2 Represents Damage due to Pesticides"
   ]
  },
  {
   "cell_type": "code",
   "execution_count": 9,
   "metadata": {},
   "outputs": [
    {
     "data": {
      "text/plain": [
       "ID                            0\n",
       "Estimated_Insects_Count       0\n",
       "Crop_Type                     0\n",
       "Soil_Type                     0\n",
       "Pesticide_Use_Category        0\n",
       "Number_Doses_Week             0\n",
       "Number_Weeks_Used          9000\n",
       "Number_Weeks_Quit             0\n",
       "Season                        0\n",
       "Crop_Damage                   0\n",
       "dtype: int64"
      ]
     },
     "execution_count": 9,
     "metadata": {},
     "output_type": "execute_result"
    }
   ],
   "source": [
    "df.isnull().sum()"
   ]
  },
  {
   "cell_type": "code",
   "execution_count": 10,
   "metadata": {},
   "outputs": [],
   "source": [
    "df['Number_Weeks_Used']=df[\"Number_Weeks_Used\"].fillna((df[\"Number_Weeks_Used\"].mean()))"
   ]
  },
  {
   "cell_type": "code",
   "execution_count": 11,
   "metadata": {},
   "outputs": [
    {
     "data": {
      "text/html": [
       "<div>\n",
       "<style scoped>\n",
       "    .dataframe tbody tr th:only-of-type {\n",
       "        vertical-align: middle;\n",
       "    }\n",
       "\n",
       "    .dataframe tbody tr th {\n",
       "        vertical-align: top;\n",
       "    }\n",
       "\n",
       "    .dataframe thead th {\n",
       "        text-align: right;\n",
       "    }\n",
       "</style>\n",
       "<table border=\"1\" class=\"dataframe\">\n",
       "  <thead>\n",
       "    <tr style=\"text-align: right;\">\n",
       "      <th></th>\n",
       "      <th>Estimated_Insects_Count</th>\n",
       "      <th>Crop_Type</th>\n",
       "      <th>Soil_Type</th>\n",
       "      <th>Pesticide_Use_Category</th>\n",
       "      <th>Number_Doses_Week</th>\n",
       "      <th>Number_Weeks_Used</th>\n",
       "      <th>Number_Weeks_Quit</th>\n",
       "      <th>Season</th>\n",
       "      <th>Crop_Damage</th>\n",
       "    </tr>\n",
       "  </thead>\n",
       "  <tbody>\n",
       "    <tr>\n",
       "      <th>count</th>\n",
       "      <td>88858.000000</td>\n",
       "      <td>88858.000000</td>\n",
       "      <td>88858.000000</td>\n",
       "      <td>88858.000000</td>\n",
       "      <td>88858.000000</td>\n",
       "      <td>88858.000000</td>\n",
       "      <td>88858.000000</td>\n",
       "      <td>88858.000000</td>\n",
       "      <td>88858.000000</td>\n",
       "    </tr>\n",
       "    <tr>\n",
       "      <th>mean</th>\n",
       "      <td>1399.012210</td>\n",
       "      <td>0.284375</td>\n",
       "      <td>0.458417</td>\n",
       "      <td>2.264186</td>\n",
       "      <td>25.849952</td>\n",
       "      <td>28.623970</td>\n",
       "      <td>9.589986</td>\n",
       "      <td>1.896959</td>\n",
       "      <td>0.190562</td>\n",
       "    </tr>\n",
       "    <tr>\n",
       "      <th>std</th>\n",
       "      <td>849.048781</td>\n",
       "      <td>0.451119</td>\n",
       "      <td>0.498271</td>\n",
       "      <td>0.461772</td>\n",
       "      <td>15.554428</td>\n",
       "      <td>11.747567</td>\n",
       "      <td>9.900631</td>\n",
       "      <td>0.701322</td>\n",
       "      <td>0.454215</td>\n",
       "    </tr>\n",
       "    <tr>\n",
       "      <th>min</th>\n",
       "      <td>150.000000</td>\n",
       "      <td>0.000000</td>\n",
       "      <td>0.000000</td>\n",
       "      <td>1.000000</td>\n",
       "      <td>0.000000</td>\n",
       "      <td>0.000000</td>\n",
       "      <td>0.000000</td>\n",
       "      <td>1.000000</td>\n",
       "      <td>0.000000</td>\n",
       "    </tr>\n",
       "    <tr>\n",
       "      <th>25%</th>\n",
       "      <td>731.000000</td>\n",
       "      <td>0.000000</td>\n",
       "      <td>0.000000</td>\n",
       "      <td>2.000000</td>\n",
       "      <td>15.000000</td>\n",
       "      <td>20.000000</td>\n",
       "      <td>0.000000</td>\n",
       "      <td>1.000000</td>\n",
       "      <td>0.000000</td>\n",
       "    </tr>\n",
       "    <tr>\n",
       "      <th>50%</th>\n",
       "      <td>1212.000000</td>\n",
       "      <td>0.000000</td>\n",
       "      <td>0.000000</td>\n",
       "      <td>2.000000</td>\n",
       "      <td>20.000000</td>\n",
       "      <td>28.623970</td>\n",
       "      <td>7.000000</td>\n",
       "      <td>2.000000</td>\n",
       "      <td>0.000000</td>\n",
       "    </tr>\n",
       "    <tr>\n",
       "      <th>75%</th>\n",
       "      <td>1898.000000</td>\n",
       "      <td>1.000000</td>\n",
       "      <td>1.000000</td>\n",
       "      <td>3.000000</td>\n",
       "      <td>40.000000</td>\n",
       "      <td>36.000000</td>\n",
       "      <td>16.000000</td>\n",
       "      <td>2.000000</td>\n",
       "      <td>0.000000</td>\n",
       "    </tr>\n",
       "    <tr>\n",
       "      <th>max</th>\n",
       "      <td>4097.000000</td>\n",
       "      <td>1.000000</td>\n",
       "      <td>1.000000</td>\n",
       "      <td>3.000000</td>\n",
       "      <td>95.000000</td>\n",
       "      <td>67.000000</td>\n",
       "      <td>50.000000</td>\n",
       "      <td>3.000000</td>\n",
       "      <td>2.000000</td>\n",
       "    </tr>\n",
       "  </tbody>\n",
       "</table>\n",
       "</div>"
      ],
      "text/plain": [
       "       Estimated_Insects_Count     Crop_Type     Soil_Type  \\\n",
       "count             88858.000000  88858.000000  88858.000000   \n",
       "mean               1399.012210      0.284375      0.458417   \n",
       "std                 849.048781      0.451119      0.498271   \n",
       "min                 150.000000      0.000000      0.000000   \n",
       "25%                 731.000000      0.000000      0.000000   \n",
       "50%                1212.000000      0.000000      0.000000   \n",
       "75%                1898.000000      1.000000      1.000000   \n",
       "max                4097.000000      1.000000      1.000000   \n",
       "\n",
       "       Pesticide_Use_Category  Number_Doses_Week  Number_Weeks_Used  \\\n",
       "count            88858.000000       88858.000000       88858.000000   \n",
       "mean                 2.264186          25.849952          28.623970   \n",
       "std                  0.461772          15.554428          11.747567   \n",
       "min                  1.000000           0.000000           0.000000   \n",
       "25%                  2.000000          15.000000          20.000000   \n",
       "50%                  2.000000          20.000000          28.623970   \n",
       "75%                  3.000000          40.000000          36.000000   \n",
       "max                  3.000000          95.000000          67.000000   \n",
       "\n",
       "       Number_Weeks_Quit        Season   Crop_Damage  \n",
       "count       88858.000000  88858.000000  88858.000000  \n",
       "mean            9.589986      1.896959      0.190562  \n",
       "std             9.900631      0.701322      0.454215  \n",
       "min             0.000000      1.000000      0.000000  \n",
       "25%             0.000000      1.000000      0.000000  \n",
       "50%             7.000000      2.000000      0.000000  \n",
       "75%            16.000000      2.000000      0.000000  \n",
       "max            50.000000      3.000000      2.000000  "
      ]
     },
     "execution_count": 11,
     "metadata": {},
     "output_type": "execute_result"
    }
   ],
   "source": [
    "df.describe()"
   ]
  },
  {
   "cell_type": "code",
   "execution_count": 12,
   "metadata": {},
   "outputs": [
    {
     "data": {
      "text/plain": [
       "ID                         0\n",
       "Estimated_Insects_Count    0\n",
       "Crop_Type                  0\n",
       "Soil_Type                  0\n",
       "Pesticide_Use_Category     0\n",
       "Number_Doses_Week          0\n",
       "Number_Weeks_Used          0\n",
       "Number_Weeks_Quit          0\n",
       "Season                     0\n",
       "Crop_Damage                0\n",
       "dtype: int64"
      ]
     },
     "execution_count": 12,
     "metadata": {},
     "output_type": "execute_result"
    }
   ],
   "source": [
    "df.isnull().sum()"
   ]
  },
  {
   "cell_type": "markdown",
   "metadata": {},
   "source": [
    "# Data Visualization"
   ]
  },
  {
   "cell_type": "code",
   "execution_count": 13,
   "metadata": {},
   "outputs": [
    {
     "data": {
      "image/png": "[encoded data removed]",
      "text/plain": [
       "<Figure size 432x288 with 1 Axes>"
      ]
     },
     "metadata": {
      "needs_background": "light"
     },
     "output_type": "display_data"
    }
   ],
   "source": [
    "df['Crop_Damage'].value_counts().plot(kind='bar');"
   ]
  },
  {
   "cell_type": "code",
   "execution_count": 14,
   "metadata": {},
   "outputs": [
    {
     "data": {
      "image/png": "[encoded data removed]",
      "text/plain": [
       "<Figure size 432x288 with 1 Axes>"
      ]
     },
     "metadata": {
      "needs_background": "light"
     },
     "output_type": "display_data"
    }
   ],
   "source": [
    "df['Crop_Type'].value_counts().plot(kind='bar');"
   ]
  },
  {
   "cell_type": "code",
   "execution_count": 15,
   "metadata": {},
   "outputs": [
    {
     "data": {
      "image/png": "[encoded data removed]",
      "text/plain": [
       "<Figure size 432x288 with 1 Axes>"
      ]
     },
     "metadata": {
      "needs_background": "light"
     },
     "output_type": "display_data"
    }
   ],
   "source": [
    "df['Soil_Type'].value_counts().plot(kind='bar');"
   ]
  },
  {
   "cell_type": "code",
   "execution_count": 16,
   "metadata": {},
   "outputs": [
    {
     "data": {
      "image/png": "[encoded data removed]",
      "text/plain": [
       "<Figure size 432x288 with 1 Axes>"
      ]
     },
     "metadata": {
      "needs_background": "light"
     },
     "output_type": "display_data"
    }
   ],
   "source": [
    "df['Season'].value_counts().plot(kind='bar');"
   ]
  },
  {
   "cell_type": "code",
   "execution_count": 17,
   "metadata": {},
   "outputs": [
    {
     "data": {
      "image/png": "[encoded data removed]",
      "text/plain": [
       "<Figure size 432x288 with 1 Axes>"
      ]
     },
     "metadata": {
      "needs_background": "light"
     },
     "output_type": "display_data"
    }
   ],
   "source": [
    "df['Pesticide_Use_Category'].value_counts().plot(kind='bar');"
   ]
  },
  {
   "cell_type": "code",
   "execution_count": 18,
   "metadata": {},
   "outputs": [
    {
     "data": {
      "text/plain": [
       "Text(0.5, 1.0, 'Season vs Crop Type')"
      ]
     },
     "execution_count": 18,
     "metadata": {},
     "output_type": "execute_result"
    },
    {
     "data": {
      "image/png": "[encoded data removed]",
      "text/plain": [
       "<Figure size 1440x1152 with 1 Axes>"
      ]
     },
     "metadata": {
      "needs_background": "light"
     },
     "output_type": "display_data"
    }
   ],
   "source": [
    "plt.figure(figsize=(20,16))\n",
    "sb.barplot(x=\"Season\", y=\"Crop_Type\",data=df)\n",
    "plt.xticks(rotation=\"vertical\")\n",
    "plt.title(\"Season vs Crop Type\")"
   ]
  },
  {
   "cell_type": "code",
   "execution_count": 19,
   "metadata": {},
   "outputs": [
    {
     "data": {
      "text/plain": [
       "Text(0.5, 1.0, 'Season vs Crop Damage')"
      ]
     },
     "execution_count": 19,
     "metadata": {},
     "output_type": "execute_result"
    },
    {
     "data": {
      "image/png": "[encoded data removed]",
      "text/plain": [
       "<Figure size 1440x1152 with 1 Axes>"
      ]
     },
     "metadata": {
      "needs_background": "light"
     },
     "output_type": "display_data"
    }
   ],
   "source": [
    "plt.figure(figsize=(20,16))\n",
    "sb.barplot(x=\"Season\", y=\"Crop_Damage\",data=df)\n",
    "plt.xticks(rotation=\"vertical\")\n",
    "plt.title(\"Season vs Crop Damage\")"
   ]
  },
  {
   "cell_type": "code",
   "execution_count": 20,
   "metadata": {},
   "outputs": [
    {
     "data": {
      "text/plain": [
       "Text(0.5, 1.0, 'Pesticide Use Category vs Crop Damage')"
      ]
     },
     "execution_count": 20,
     "metadata": {},
     "output_type": "execute_result"
    },
    {
     "data": {
      "image/png": "[encoded data removed]",
      "text/plain": [
       "<Figure size 1440x1152 with 1 Axes>"
      ]
     },
     "metadata": {
      "needs_background": "light"
     },
     "output_type": "display_data"
    }
   ],
   "source": [
    "plt.figure(figsize=(20,16))\n",
    "sb.barplot(x=\"Pesticide_Use_Category\", y=\"Crop_Damage\",data=df)\n",
    "plt.xticks(rotation=\"vertical\")\n",
    "plt.title(\"Pesticide Use Category vs Crop Damage\")"
   ]
  },
  {
   "cell_type": "code",
   "execution_count": 21,
   "metadata": {},
   "outputs": [
    {
     "data": {
      "text/plain": [
       "Text(0.5, 1.0, 'Pesticide Use Category vs Number Doses Week ')"
      ]
     },
     "execution_count": 21,
     "metadata": {},
     "output_type": "execute_result"
    },
    {
     "data": {
      "image/png": "[encoded data removed]",
      "text/plain": [
       "<Figure size 1440x1152 with 1 Axes>"
      ]
     },
     "metadata": {
      "needs_background": "light"
     },
     "output_type": "display_data"
    }
   ],
   "source": [
    "plt.figure(figsize=(20,16))\n",
    "sb.barplot(x=\"Pesticide_Use_Category\", y=\"Number_Doses_Week\",data=df)\n",
    "plt.xticks(rotation=\"vertical\")\n",
    "plt.title(\"Pesticide Use Category vs Number Doses Week \")"
   ]
  },
  {
   "cell_type": "code",
   "execution_count": 22,
   "metadata": {},
   "outputs": [
    {
     "data": {
      "text/plain": [
       "Text(0.5, 1.0, 'Pesticide Use Category vs Number Weeks Used ')"
      ]
     },
     "execution_count": 22,
     "metadata": {},
     "output_type": "execute_result"
    },
    {
     "data": {
      "image/png": "[encoded data removed]",
      "text/plain": [
       "<Figure size 1440x1152 with 1 Axes>"
      ]
     },
     "metadata": {
      "needs_background": "light"
     },
     "output_type": "display_data"
    }
   ],
   "source": [
    "plt.figure(figsize=(20,16))\n",
    "sb.barplot(x=\"Pesticide_Use_Category\", y=\"Number_Weeks_Used\",data=df)\n",
    "plt.xticks(rotation=\"vertical\")\n",
    "plt.title(\"Pesticide Use Category vs Number Weeks Used \")"
   ]
  },
  {
   "cell_type": "markdown",
   "metadata": {},
   "source": [
    "# Creating Heatmap for Correlation"
   ]
  },
  {
   "cell_type": "code",
   "execution_count": 23,
   "metadata": {},
   "outputs": [
    {
     "data": {
      "text/html": [
       "<div>\n",
       "<style scoped>\n",
       "    .dataframe tbody tr th:only-of-type {\n",
       "        vertical-align: middle;\n",
       "    }\n",
       "\n",
       "    .dataframe tbody tr th {\n",
       "        vertical-align: top;\n",
       "    }\n",
       "\n",
       "    .dataframe thead th {\n",
       "        text-align: right;\n",
       "    }\n",
       "</style>\n",
       "<table border=\"1\" class=\"dataframe\">\n",
       "  <thead>\n",
       "    <tr style=\"text-align: right;\">\n",
       "      <th></th>\n",
       "      <th>Estimated_Insects_Count</th>\n",
       "      <th>Crop_Type</th>\n",
       "      <th>Soil_Type</th>\n",
       "      <th>Pesticide_Use_Category</th>\n",
       "      <th>Number_Doses_Week</th>\n",
       "      <th>Number_Weeks_Used</th>\n",
       "      <th>Number_Weeks_Quit</th>\n",
       "      <th>Season</th>\n",
       "      <th>Crop_Damage</th>\n",
       "    </tr>\n",
       "  </thead>\n",
       "  <tbody>\n",
       "    <tr>\n",
       "      <th>Estimated_Insects_Count</th>\n",
       "      <td>1.000000</td>\n",
       "      <td>-0.088830</td>\n",
       "      <td>-0.056375</td>\n",
       "      <td>-0.079904</td>\n",
       "      <td>-0.102461</td>\n",
       "      <td>0.412904</td>\n",
       "      <td>0.299279</td>\n",
       "      <td>0.002304</td>\n",
       "      <td>0.202888</td>\n",
       "    </tr>\n",
       "    <tr>\n",
       "      <th>Crop_Type</th>\n",
       "      <td>-0.088830</td>\n",
       "      <td>1.000000</td>\n",
       "      <td>-0.287372</td>\n",
       "      <td>0.235779</td>\n",
       "      <td>-0.192161</td>\n",
       "      <td>-0.041679</td>\n",
       "      <td>-0.233394</td>\n",
       "      <td>0.002161</td>\n",
       "      <td>-0.016495</td>\n",
       "    </tr>\n",
       "    <tr>\n",
       "      <th>Soil_Type</th>\n",
       "      <td>-0.056375</td>\n",
       "      <td>-0.287372</td>\n",
       "      <td>1.000000</td>\n",
       "      <td>0.032657</td>\n",
       "      <td>0.079447</td>\n",
       "      <td>-0.066420</td>\n",
       "      <td>0.009364</td>\n",
       "      <td>0.002327</td>\n",
       "      <td>-0.021997</td>\n",
       "    </tr>\n",
       "    <tr>\n",
       "      <th>Pesticide_Use_Category</th>\n",
       "      <td>-0.079904</td>\n",
       "      <td>0.235779</td>\n",
       "      <td>0.032657</td>\n",
       "      <td>1.000000</td>\n",
       "      <td>-0.003498</td>\n",
       "      <td>0.326233</td>\n",
       "      <td>-0.554169</td>\n",
       "      <td>0.002811</td>\n",
       "      <td>0.175002</td>\n",
       "    </tr>\n",
       "    <tr>\n",
       "      <th>Number_Doses_Week</th>\n",
       "      <td>-0.102461</td>\n",
       "      <td>-0.192161</td>\n",
       "      <td>0.079447</td>\n",
       "      <td>-0.003498</td>\n",
       "      <td>1.000000</td>\n",
       "      <td>0.119778</td>\n",
       "      <td>-0.037131</td>\n",
       "      <td>-0.001401</td>\n",
       "      <td>-0.030874</td>\n",
       "    </tr>\n",
       "    <tr>\n",
       "      <th>Number_Weeks_Used</th>\n",
       "      <td>0.412904</td>\n",
       "      <td>-0.041679</td>\n",
       "      <td>-0.066420</td>\n",
       "      <td>0.326233</td>\n",
       "      <td>0.119778</td>\n",
       "      <td>1.000000</td>\n",
       "      <td>-0.425763</td>\n",
       "      <td>0.004188</td>\n",
       "      <td>0.219621</td>\n",
       "    </tr>\n",
       "    <tr>\n",
       "      <th>Number_Weeks_Quit</th>\n",
       "      <td>0.299279</td>\n",
       "      <td>-0.233394</td>\n",
       "      <td>0.009364</td>\n",
       "      <td>-0.554169</td>\n",
       "      <td>-0.037131</td>\n",
       "      <td>-0.425763</td>\n",
       "      <td>1.000000</td>\n",
       "      <td>0.000595</td>\n",
       "      <td>-0.133117</td>\n",
       "    </tr>\n",
       "    <tr>\n",
       "      <th>Season</th>\n",
       "      <td>0.002304</td>\n",
       "      <td>0.002161</td>\n",
       "      <td>0.002327</td>\n",
       "      <td>0.002811</td>\n",
       "      <td>-0.001401</td>\n",
       "      <td>0.004188</td>\n",
       "      <td>0.000595</td>\n",
       "      <td>1.000000</td>\n",
       "      <td>-0.000184</td>\n",
       "    </tr>\n",
       "    <tr>\n",
       "      <th>Crop_Damage</th>\n",
       "      <td>0.202888</td>\n",
       "      <td>-0.016495</td>\n",
       "      <td>-0.021997</td>\n",
       "      <td>0.175002</td>\n",
       "      <td>-0.030874</td>\n",
       "      <td>0.219621</td>\n",
       "      <td>-0.133117</td>\n",
       "      <td>-0.000184</td>\n",
       "      <td>1.000000</td>\n",
       "    </tr>\n",
       "  </tbody>\n",
       "</table>\n",
       "</div>"
      ],
      "text/plain": [
       "                         Estimated_Insects_Count  Crop_Type  Soil_Type  \\\n",
       "Estimated_Insects_Count                 1.000000  -0.088830  -0.056375   \n",
       "Crop_Type                              -0.088830   1.000000  -0.287372   \n",
       "Soil_Type                              -0.056375  -0.287372   1.000000   \n",
       "Pesticide_Use_Category                 -0.079904   0.235779   0.032657   \n",
       "Number_Doses_Week                      -0.102461  -0.192161   0.079447   \n",
       "Number_Weeks_Used                       0.412904  -0.041679  -0.066420   \n",
       "Number_Weeks_Quit                       0.299279  -0.233394   0.009364   \n",
       "Season                                  0.002304   0.002161   0.002327   \n",
       "Crop_Damage                             0.202888  -0.016495  -0.021997   \n",
       "\n",
       "                         Pesticide_Use_Category  Number_Doses_Week  \\\n",
       "Estimated_Insects_Count               -0.079904          -0.102461   \n",
       "Crop_Type                              0.235779          -0.192161   \n",
       "Soil_Type                              0.032657           0.079447   \n",
       "Pesticide_Use_Category                 1.000000          -0.003498   \n",
       "Number_Doses_Week                     -0.003498           1.000000   \n",
       "Number_Weeks_Used                      0.326233           0.119778   \n",
       "Number_Weeks_Quit                     -0.554169          -0.037131   \n",
       "Season                                 0.002811          -0.001401   \n",
       "Crop_Damage                            0.175002          -0.030874   \n",
       "\n",
       "                         Number_Weeks_Used  Number_Weeks_Quit    Season  \\\n",
       "Estimated_Insects_Count           0.412904           0.299279  0.002304   \n",
       "Crop_Type                        -0.041679          -0.233394  0.002161   \n",
       "Soil_Type                        -0.066420           0.009364  0.002327   \n",
       "Pesticide_Use_Category            0.326233          -0.554169  0.002811   \n",
       "Number_Doses_Week                 0.119778          -0.037131 -0.001401   \n",
       "Number_Weeks_Used                 1.000000          -0.425763  0.004188   \n",
       "Number_Weeks_Quit                -0.425763           1.000000  0.000595   \n",
       "Season                            0.004188           0.000595  1.000000   \n",
       "Crop_Damage                       0.219621          -0.133117 -0.000184   \n",
       "\n",
       "                         Crop_Damage  \n",
       "Estimated_Insects_Count     0.202888  \n",
       "Crop_Type                  -0.016495  \n",
       "Soil_Type                  -0.021997  \n",
       "Pesticide_Use_Category      0.175002  \n",
       "Number_Doses_Week          -0.030874  \n",
       "Number_Weeks_Used           0.219621  \n",
       "Number_Weeks_Quit          -0.133117  \n",
       "Season                     -0.000184  \n",
       "Crop_Damage                 1.000000  "
      ]
     },
     "execution_count": 23,
     "metadata": {},
     "output_type": "execute_result"
    }
   ],
   "source": [
    "df.corr()"
   ]
  },
  {
   "cell_type": "code",
   "execution_count": 24,
   "metadata": {},
   "outputs": [
    {
     "data": {
      "image/png": "[encoded data removed]",
      "text/plain": [
       "<Figure size 2520x1080 with 2 Axes>"
      ]
     },
     "metadata": {
      "needs_background": "light"
     },
     "output_type": "display_data"
    }
   ],
   "source": [
    "corr=df.corr()\n",
    "plt.figure(figsize=(35,15))\n",
    "sb.heatmap(corr,annot=True, linewidths=2.0, fmt=\".2f\")\n",
    "plt.show()"
   ]
  },
  {
   "cell_type": "markdown",
   "metadata": {},
   "source": [
    "# Building Model"
   ]
  },
  {
   "cell_type": "code",
   "execution_count": 25,
   "metadata": {},
   "outputs": [
    {
     "data": {
      "text/plain": [
       "Index(['ID', 'Estimated_Insects_Count', 'Crop_Type', 'Soil_Type',\n",
       "       'Pesticide_Use_Category', 'Number_Doses_Week', 'Number_Weeks_Used',\n",
       "       'Number_Weeks_Quit', 'Season', 'Crop_Damage'],\n",
       "      dtype='object')"
      ]
     },
     "execution_count": 25,
     "metadata": {},
     "output_type": "execute_result"
    }
   ],
   "source": [
    "df.columns"
   ]
  },
  {
   "cell_type": "code",
   "execution_count": 26,
   "metadata": {},
   "outputs": [
    {
     "data": {
      "text/html": [
       "<div>\n",
       "<style scoped>\n",
       "    .dataframe tbody tr th:only-of-type {\n",
       "        vertical-align: middle;\n",
       "    }\n",
       "\n",
       "    .dataframe tbody tr th {\n",
       "        vertical-align: top;\n",
       "    }\n",
       "\n",
       "    .dataframe thead th {\n",
       "        text-align: right;\n",
       "    }\n",
       "</style>\n",
       "<table border=\"1\" class=\"dataframe\">\n",
       "  <thead>\n",
       "    <tr style=\"text-align: right;\">\n",
       "      <th></th>\n",
       "      <th>Estimated_Insects_Count</th>\n",
       "      <th>Crop_Type</th>\n",
       "      <th>Soil_Type</th>\n",
       "      <th>Pesticide_Use_Category</th>\n",
       "      <th>Number_Doses_Week</th>\n",
       "      <th>Number_Weeks_Used</th>\n",
       "      <th>Number_Weeks_Quit</th>\n",
       "      <th>Season</th>\n",
       "    </tr>\n",
       "  </thead>\n",
       "  <tbody>\n",
       "    <tr>\n",
       "      <th>0</th>\n",
       "      <td>188</td>\n",
       "      <td>1</td>\n",
       "      <td>0</td>\n",
       "      <td>1</td>\n",
       "      <td>0</td>\n",
       "      <td>0.0</td>\n",
       "      <td>0</td>\n",
       "      <td>1</td>\n",
       "    </tr>\n",
       "    <tr>\n",
       "      <th>1</th>\n",
       "      <td>209</td>\n",
       "      <td>1</td>\n",
       "      <td>0</td>\n",
       "      <td>1</td>\n",
       "      <td>0</td>\n",
       "      <td>0.0</td>\n",
       "      <td>0</td>\n",
       "      <td>2</td>\n",
       "    </tr>\n",
       "    <tr>\n",
       "      <th>2</th>\n",
       "      <td>257</td>\n",
       "      <td>1</td>\n",
       "      <td>0</td>\n",
       "      <td>1</td>\n",
       "      <td>0</td>\n",
       "      <td>0.0</td>\n",
       "      <td>0</td>\n",
       "      <td>2</td>\n",
       "    </tr>\n",
       "    <tr>\n",
       "      <th>3</th>\n",
       "      <td>257</td>\n",
       "      <td>1</td>\n",
       "      <td>1</td>\n",
       "      <td>1</td>\n",
       "      <td>0</td>\n",
       "      <td>0.0</td>\n",
       "      <td>0</td>\n",
       "      <td>2</td>\n",
       "    </tr>\n",
       "    <tr>\n",
       "      <th>4</th>\n",
       "      <td>342</td>\n",
       "      <td>1</td>\n",
       "      <td>0</td>\n",
       "      <td>1</td>\n",
       "      <td>0</td>\n",
       "      <td>0.0</td>\n",
       "      <td>0</td>\n",
       "      <td>2</td>\n",
       "    </tr>\n",
       "    <tr>\n",
       "      <th>...</th>\n",
       "      <td>...</td>\n",
       "      <td>...</td>\n",
       "      <td>...</td>\n",
       "      <td>...</td>\n",
       "      <td>...</td>\n",
       "      <td>...</td>\n",
       "      <td>...</td>\n",
       "      <td>...</td>\n",
       "    </tr>\n",
       "    <tr>\n",
       "      <th>88853</th>\n",
       "      <td>3337</td>\n",
       "      <td>1</td>\n",
       "      <td>0</td>\n",
       "      <td>2</td>\n",
       "      <td>10</td>\n",
       "      <td>12.0</td>\n",
       "      <td>44</td>\n",
       "      <td>3</td>\n",
       "    </tr>\n",
       "    <tr>\n",
       "      <th>88854</th>\n",
       "      <td>3516</td>\n",
       "      <td>1</td>\n",
       "      <td>0</td>\n",
       "      <td>2</td>\n",
       "      <td>10</td>\n",
       "      <td>20.0</td>\n",
       "      <td>38</td>\n",
       "      <td>1</td>\n",
       "    </tr>\n",
       "    <tr>\n",
       "      <th>88855</th>\n",
       "      <td>3516</td>\n",
       "      <td>1</td>\n",
       "      <td>0</td>\n",
       "      <td>2</td>\n",
       "      <td>15</td>\n",
       "      <td>40.0</td>\n",
       "      <td>8</td>\n",
       "      <td>2</td>\n",
       "    </tr>\n",
       "    <tr>\n",
       "      <th>88856</th>\n",
       "      <td>3702</td>\n",
       "      <td>1</td>\n",
       "      <td>0</td>\n",
       "      <td>2</td>\n",
       "      <td>10</td>\n",
       "      <td>25.0</td>\n",
       "      <td>18</td>\n",
       "      <td>3</td>\n",
       "    </tr>\n",
       "    <tr>\n",
       "      <th>88857</th>\n",
       "      <td>3895</td>\n",
       "      <td>1</td>\n",
       "      <td>0</td>\n",
       "      <td>2</td>\n",
       "      <td>20</td>\n",
       "      <td>37.0</td>\n",
       "      <td>7</td>\n",
       "      <td>3</td>\n",
       "    </tr>\n",
       "  </tbody>\n",
       "</table>\n",
       "<p>88858 rows × 8 columns</p>\n",
       "</div>"
      ],
      "text/plain": [
       "       Estimated_Insects_Count  Crop_Type  Soil_Type  Pesticide_Use_Category  \\\n",
       "0                          188          1          0                       1   \n",
       "1                          209          1          0                       1   \n",
       "2                          257          1          0                       1   \n",
       "3                          257          1          1                       1   \n",
       "4                          342          1          0                       1   \n",
       "...                        ...        ...        ...                     ...   \n",
       "88853                     3337          1          0                       2   \n",
       "88854                     3516          1          0                       2   \n",
       "88855                     3516          1          0                       2   \n",
       "88856                     3702          1          0                       2   \n",
       "88857                     3895          1          0                       2   \n",
       "\n",
       "       Number_Doses_Week  Number_Weeks_Used  Number_Weeks_Quit  Season  \n",
       "0                      0                0.0                  0       1  \n",
       "1                      0                0.0                  0       2  \n",
       "2                      0                0.0                  0       2  \n",
       "3                      0                0.0                  0       2  \n",
       "4                      0                0.0                  0       2  \n",
       "...                  ...                ...                ...     ...  \n",
       "88853                 10               12.0                 44       3  \n",
       "88854                 10               20.0                 38       1  \n",
       "88855                 15               40.0                  8       2  \n",
       "88856                 10               25.0                 18       3  \n",
       "88857                 20               37.0                  7       3  \n",
       "\n",
       "[88858 rows x 8 columns]"
      ]
     },
     "execution_count": 26,
     "metadata": {},
     "output_type": "execute_result"
    }
   ],
   "source": [
    "considered_cols= ['Estimated_Insects_Count', 'Crop_Type', 'Soil_Type',\n",
    "       'Pesticide_Use_Category', 'Number_Doses_Week', 'Number_Weeks_Used',\n",
    "       'Number_Weeks_Quit', 'Season',]\n",
    "x = df[considered_cols]\n",
    "x"
   ]
  },
  {
   "cell_type": "code",
   "execution_count": 27,
   "metadata": {},
   "outputs": [
    {
     "data": {
      "text/plain": [
       "0        0\n",
       "1        1\n",
       "2        1\n",
       "3        1\n",
       "4        1\n",
       "        ..\n",
       "88853    0\n",
       "88854    0\n",
       "88855    0\n",
       "88856    0\n",
       "88857    0\n",
       "Name: Crop_Damage, Length: 88858, dtype: int64"
      ]
     },
     "execution_count": 27,
     "metadata": {},
     "output_type": "execute_result"
    }
   ],
   "source": [
    "y =df.Crop_Damage\n",
    "y"
   ]
  },
  {
   "cell_type": "code",
   "execution_count": 28,
   "metadata": {},
   "outputs": [],
   "source": [
    "from sklearn.linear_model import LogisticRegression\n",
    "import numpy as np\n",
    "from sklearn.model_selection import train_test_split\n",
    "from sklearn.neighbors import KNeighborsClassifier\n",
    "from sklearn.naive_bayes import GaussianNB\n",
    "from sklearn.svm import SVC\n",
    "from sklearn.metrics import r2_score\n",
    "from sklearn.tree import DecisionTreeClassifier\n",
    "from sklearn.metrics import accuracy_score,confusion_matrix,classification_report\n",
    "import warnings\n",
    "warnings.filterwarnings('ignore')"
   ]
  },
  {
   "cell_type": "code",
   "execution_count": 29,
   "metadata": {},
   "outputs": [],
   "source": [
    "lr=LogisticRegression()\n",
    "gs=GaussianNB()\n",
    "dt=DecisionTreeClassifier()\n",
    "svc=SVC()\n",
    "knn=KNeighborsClassifier()\n"
   ]
  },
  {
   "cell_type": "code",
   "execution_count": 30,
   "metadata": {},
   "outputs": [],
   "source": [
    "x_train,x_test,y_train,y_test=train_test_split(x,y,test_size=.20,random_state=86000)"
   ]
  },
  {
   "cell_type": "code",
   "execution_count": 31,
   "metadata": {},
   "outputs": [
    {
     "name": "stdout",
     "output_type": "stream",
     "text": [
      "Accuracy score of  GaussianNB() is:\n",
      "0.8214607247355391\n",
      "[[14046   775     1]\n",
      " [ 1913   553     0]\n",
      " [  354   130     0]]\n",
      "              precision    recall  f1-score   support\n",
      "\n",
      "           0       0.86      0.95      0.90     14822\n",
      "           1       0.38      0.22      0.28      2466\n",
      "           2       0.00      0.00      0.00       484\n",
      "\n",
      "    accuracy                           0.82     17772\n",
      "   macro avg       0.41      0.39      0.39     17772\n",
      "weighted avg       0.77      0.82      0.79     17772\n",
      "\n",
      "\n",
      "\n",
      "Accuracy score of  SVC() is:\n",
      "0.8340085527796534\n",
      "[[14822     0     0]\n",
      " [ 2466     0     0]\n",
      " [  484     0     0]]\n",
      "              precision    recall  f1-score   support\n",
      "\n",
      "           0       0.83      1.00      0.91     14822\n",
      "           1       0.00      0.00      0.00      2466\n",
      "           2       0.00      0.00      0.00       484\n",
      "\n",
      "    accuracy                           0.83     17772\n",
      "   macro avg       0.28      0.33      0.30     17772\n",
      "weighted avg       0.70      0.83      0.76     17772\n",
      "\n",
      "\n",
      "\n",
      "Accuracy score of  DecisionTreeClassifier() is:\n",
      "0.7492122439792933\n",
      "[[12592  1910   320]\n",
      " [ 1636   678   152]\n",
      " [  271   168    45]]\n",
      "              precision    recall  f1-score   support\n",
      "\n",
      "           0       0.87      0.85      0.86     14822\n",
      "           1       0.25      0.27      0.26      2466\n",
      "           2       0.09      0.09      0.09       484\n",
      "\n",
      "    accuracy                           0.75     17772\n",
      "   macro avg       0.40      0.41      0.40     17772\n",
      "weighted avg       0.76      0.75      0.75     17772\n",
      "\n",
      "\n",
      "\n",
      "Accuracy score of  LogisticRegression() is:\n",
      "0.8324893090254333\n",
      "[[14699   114     9]\n",
      " [ 2335    74    57]\n",
      " [  450    12    22]]\n",
      "              precision    recall  f1-score   support\n",
      "\n",
      "           0       0.84      0.99      0.91     14822\n",
      "           1       0.37      0.03      0.06      2466\n",
      "           2       0.25      0.05      0.08       484\n",
      "\n",
      "    accuracy                           0.83     17772\n",
      "   macro avg       0.49      0.36      0.35     17772\n",
      "weighted avg       0.76      0.83      0.77     17772\n",
      "\n",
      "\n",
      "\n",
      "Accuracy score of  KNeighborsClassifier() is:\n",
      "0.8232613099257259\n",
      "[[14149   655    18]\n",
      " [ 1968   474    24]\n",
      " [  357   119     8]]\n",
      "              precision    recall  f1-score   support\n",
      "\n",
      "           0       0.86      0.95      0.90     14822\n",
      "           1       0.38      0.19      0.26      2466\n",
      "           2       0.16      0.02      0.03       484\n",
      "\n",
      "    accuracy                           0.82     17772\n",
      "   macro avg       0.47      0.39      0.40     17772\n",
      "weighted avg       0.77      0.82      0.79     17772\n",
      "\n",
      "\n",
      "\n"
     ]
    }
   ],
   "source": [
    "model=[GaussianNB(),SVC(),DecisionTreeClassifier(),LogisticRegression(),KNeighborsClassifier()]\n",
    "for m in model:\n",
    "    m.fit(x_train,y_train)\n",
    "    m.score(x_train,y_train)\n",
    "    predm=m.predict(x_test)\n",
    "    print(\"Accuracy score of \", m, \"is:\")\n",
    "    print(accuracy_score(y_test,predm))\n",
    "    print(confusion_matrix(y_test,predm))\n",
    "    print(classification_report(y_test,predm))\n",
    "    print('\\n')"
   ]
  },
  {
   "cell_type": "code",
   "execution_count": 32,
   "metadata": {},
   "outputs": [
    {
     "name": "stdout",
     "output_type": "stream",
     "text": [
      "0.8171843349088453\n",
      "[[14027   714    81]\n",
      " [ 1909   468    89]\n",
      " [  325   131    28]]\n",
      "              precision    recall  f1-score   support\n",
      "\n",
      "           0       0.86      0.95      0.90     14822\n",
      "           1       0.36      0.19      0.25      2466\n",
      "           2       0.14      0.06      0.08       484\n",
      "\n",
      "    accuracy                           0.82     17772\n",
      "   macro avg       0.45      0.40      0.41     17772\n",
      "weighted avg       0.77      0.82      0.79     17772\n",
      "\n"
     ]
    }
   ],
   "source": [
    "from sklearn.ensemble import RandomForestClassifier\n",
    "\n",
    "rfc = RandomForestClassifier(n_estimators=10)\n",
    "rfc.fit(x_train, y_train)\n",
    "rfc.score(x_train, y_train)\n",
    "predrfc = rfc.predict(x_test)\n",
    "print(accuracy_score(y_test,predrfc))\n",
    "print(confusion_matrix(y_test,predrfc))\n",
    "print(classification_report(y_test,predrfc))"
   ]
  },
  {
   "cell_type": "markdown",
   "metadata": {},
   "source": [
    "From the above results it is clear that with Accuracy score of 0.832 and F1-Score of 0.91 Logistic Regression model is the best fit"
   ]
  },
  {
   "cell_type": "code",
   "execution_count": 45,
   "metadata": {},
   "outputs": [],
   "source": [
    "import pickle\n",
    "filename=\"Project10_Agriculture.pkl\"\n",
    "pickle.dump(lr,open(filename,\"wb\"))"
   ]
  }
 ],
 "metadata": {
  "kernelspec": {
   "display_name": "Python 3",
   "language": "python",
   "name": "python3"
  },
  "language_info": {
   "codemirror_mode": {
    "name": "ipython",
    "version": 3
   },
   "file_extension": ".py",
   "mimetype": "text/x-python",
   "name": "python",
   "nbconvert_exporter": "python",
   "pygments_lexer": "ipython3",
   "version": "3.8.3"
  }
 },
 "nbformat": 4,
 "nbformat_minor": 4
}
